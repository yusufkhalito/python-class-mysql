{
 "cells": [
  {
   "cell_type": "code",
   "execution_count": 1,
   "id": "8a408b84",
   "metadata": {},
   "outputs": [],
   "source": [
    "## the class should have attribute for the account holder name, account number and balance.\n",
    "## implement methods for depositing and withdrawing of money from the account.\n",
    "## ensure that withdrawing money is not allowed if the withdrawai amount exceeds the account balance.\n",
    "## implement the method to display account details."
   ]
  },
  {
   "cell_type": "code",
   "execution_count": 21,
   "id": "af473bd9",
   "metadata": {},
   "outputs": [],
   "source": [
    "class bankapp:\n",
    "    def __init__(self):\n",
    "        self.balance = 0\n",
    "        self.account_name=\"hamza suleiman\"\n",
    "        self.account_number=1223540603\n",
    "    def deposit(self):\n",
    "        amount=float(input(\"enter deposit amount:\"))\n",
    "        self.balance += amount\n",
    "        print(\"transaction successfull..\")\n",
    "    def withdraw(self):\n",
    "        withdrawal=float(input(\"enter withdrawal anount:\"))\n",
    "        receipt=input(\"do want receipt for this transaction[yes,no]:\")\n",
    "        if withdrawal > self.balance or withdrawal == 0:\n",
    "            print(\"cannot complete transaction due to zero or insufficient funds\")\n",
    "        else:\n",
    "            self.balance -= withdrawal\n",
    "            print(\"transaction successfull\")\n",
    "    def account_details(self):\n",
    "        print(f\"\"\"_______ACCOUNT DETAILS______\n",
    "        \"account_name:\"{self.account_name}\n",
    "        \"account_number:\"{self.account_number}\n",
    "        available balance {self.balance}\"\"\")\n",
    "mine=bankapp()        "
   ]
  },
  {
   "cell_type": "code",
   "execution_count": 22,
   "id": "3d218973",
   "metadata": {},
   "outputs": [
    {
     "name": "stdout",
     "output_type": "stream",
     "text": [
      "enter deposit amount:45000000\n",
      "transaction successfull..\n"
     ]
    }
   ],
   "source": [
    "mine.deposit()"
   ]
  },
  {
   "cell_type": "code",
   "execution_count": 23,
   "id": "324a1484",
   "metadata": {},
   "outputs": [
    {
     "name": "stdout",
     "output_type": "stream",
     "text": [
      "enter withdrawal anount:3000000\n",
      "do want receipt for this transaction[yes,no]:no\n",
      "transaction successfull\n"
     ]
    }
   ],
   "source": [
    "mine.withdraw()"
   ]
  },
  {
   "cell_type": "code",
   "execution_count": 24,
   "id": "2e21d35d",
   "metadata": {},
   "outputs": [
    {
     "name": "stdout",
     "output_type": "stream",
     "text": [
      "_______ACCOUNT DETAILS______\n",
      "        \"account_name:\"hamza suleiman\n",
      "        \"account_number:\"1223540603\n",
      "        available balance 42000000.0\n"
     ]
    }
   ],
   "source": [
    "mine.account_details()"
   ]
  },
  {
   "cell_type": "code",
   "execution_count": null,
   "id": "e95e647b",
   "metadata": {},
   "outputs": [],
   "source": []
  }
 ],
 "metadata": {
  "kernelspec": {
   "display_name": "Python 3 (ipykernel)",
   "language": "python",
   "name": "python3"
  },
  "language_info": {
   "codemirror_mode": {
    "name": "ipython",
    "version": 3
   },
   "file_extension": ".py",
   "mimetype": "text/x-python",
   "name": "python",
   "nbconvert_exporter": "python",
   "pygments_lexer": "ipython3",
   "version": "3.11.5"
  }
 },
 "nbformat": 4,
 "nbformat_minor": 5
}
