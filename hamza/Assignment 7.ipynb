{
 "cells": [
  {
   "cell_type": "code",
   "execution_count": 2,
   "id": "e5b2548b",
   "metadata": {},
   "outputs": [],
   "source": [
    "class patient:\n",
    "    def __init__(self,name,age,hight,weight,complexion,gender):\n",
    "        self.name=name\n",
    "        self.age=age\n",
    "        self.gender=gender\n",
    "        self.hight=hight\n",
    "        self.weight=weight\n",
    "        self.complexion=complexion\n",
    "    def patient1(self):\n",
    "        print(f\"\"\"______patient recoerd_____\n",
    "        \"name\": {self.name},\n",
    "        \"age\":{self.age}\n",
    "        \"gender\":{self.gender}\n",
    "        \"hight\":{self.hight},\n",
    "        \"weight\":{self.weight},\n",
    "        \"complexion\":{self.complexion} \"\"\")\n",
    "    def continentfee(self):\n",
    "        try:\n",
    "            option=input('what country are you from:[\"nigeria,canada,sweden,france\"]')\n",
    "            country= [\"nigeria\",\"canada\",\"sweden\",\"france\"]\n",
    "            if option ==\"nigeria\":\n",
    "                print(\"your checking fee is $40\")\n",
    "            elif option == \"canada\":\n",
    "                print(\"your checking fee is $50\")            \n",
    "            elif option ==\"sweden\":\n",
    "                print(\"your checking fee is $60\")            \n",
    "            elif option ==\"france\":\n",
    "                print(\"your checking fee is $70\")\n",
    "            elif option not in country:\n",
    "                print(\"sorry invalid country,insert correct country\")\n",
    "        except:\n",
    "            print(\"incorrect continent\",str(e))\n",
    "        \n",
    "    def BMI (self):\n",
    "        try:\n",
    "            weight=int(input(\"what is your current weight in kg:\"))\n",
    "            height=int(input(\"what is your current height in meter\"))\n",
    "            bmi= weight/height**2\n",
    "            if bmi <16:\n",
    "                print(\"severe thiness see the doctor\")\n",
    "            elif bmi  >=18.5 and bmi < 25:\n",
    "                print(\"healthy weight keep it up\")\n",
    "            elif bmi >=25 and bmi <=30:\n",
    "                print(\"you are over weight keep it up\")\n",
    "            elif bmi >=30 and bmi <= 40:\n",
    "                print(\"you are obase .. see your doctor as soon as possible.\")\n",
    "        except:\n",
    "            print(\"invalid input,insert correct value\")\n",
    "            \n",
    "hospital=patient(\"hamza\",24,5.4,75,\"fair\",\"male\")            "
   ]
  },
  {
   "cell_type": "code",
   "execution_count": 2,
   "id": "3e8deff5",
   "metadata": {},
   "outputs": [
    {
     "name": "stdout",
     "output_type": "stream",
     "text": [
      "what country are you from:[\"nigeria,canada,sweden,france\"]hg\n",
      "sorry invalid country,insert correct country\n"
     ]
    }
   ],
   "source": [
    "hospital.continentfee() "
   ]
  },
  {
   "cell_type": "code",
   "execution_count": 3,
   "id": "f557d1a4",
   "metadata": {},
   "outputs": [
    {
     "name": "stdout",
     "output_type": "stream",
     "text": [
      "what is your current weight in kg:yufgdgfjhb\n",
      "invalid input,insert correct value\n"
     ]
    }
   ],
   "source": [
    "hospital.BMI()"
   ]
  },
  {
   "cell_type": "code",
   "execution_count": 22,
   "id": "4a1f26ba",
   "metadata": {},
   "outputs": [
    {
     "name": "stdout",
     "output_type": "stream",
     "text": [
      "______patient recoerd_____\n",
      "        \"name\": hamza,\n",
      "        \"age\":24\n",
      "        \"gender\":male\n",
      "        \"hight\":5.4,\n",
      "        \"weight\":75,\n",
      "        \"complexion\":fair \n"
     ]
    }
   ],
   "source": [
    "hospital.patient1()"
   ]
  },
  {
   "cell_type": "code",
   "execution_count": null,
   "id": "d87510db",
   "metadata": {},
   "outputs": [],
   "source": []
  }
 ],
 "metadata": {
  "kernelspec": {
   "display_name": "Python 3 (ipykernel)",
   "language": "python",
   "name": "python3"
  },
  "language_info": {
   "codemirror_mode": {
    "name": "ipython",
    "version": 3
   },
   "file_extension": ".py",
   "mimetype": "text/x-python",
   "name": "python",
   "nbconvert_exporter": "python",
   "pygments_lexer": "ipython3",
   "version": "3.11.5"
  }
 },
 "nbformat": 4,
 "nbformat_minor": 5
}
