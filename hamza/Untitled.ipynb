{
 "cells": [
  {
   "cell_type": "code",
   "execution_count": 27,
   "id": "a23f4eca",
   "metadata": {},
   "outputs": [],
   "source": [
    "class phone:\n",
    "    def __init__(self,iphone,samsung,itel,tecno,blue,black,red,memory_space):\n",
    "        self.brand=\"brand\"\n",
    "        self.color=\"color\"\n",
    "        self.memory_space=\"memory_space\"\n",
    "    def customer(self):\n",
    "        option=input(\"what type of brand are u looking for:\")\n",
    "        color=input(\"what is your color preference:\")\n",
    "        memory=input(\"what type of memory are looking for:\")\n",
    "        if option ==\"self.brand\":\n",
    "            print(f\"available {self.brand}\")\n",
    "        elif color ==\"self.color\":\n",
    "            print(f\"available {self.color}\")\n",
    "        elif memory ==\"self.memory_space\":\n",
    "            print(f\"available {self.memory_space}\")\n",
    "        else:\n",
    "            option != \"self.brand\"\n",
    "            color != \"self.color\"\n",
    "            memory != \"self.memory_space\"\n",
    "            print(\"not available\")\n",
    "            \n",
    "hamza=phone(\"iphone\",\"samsung\",\"itel\",\"tecno\",\"blue\",\"black\",\"red\",\"128,256\")            "
   ]
  },
  {
   "cell_type": "code",
   "execution_count": 28,
   "id": "40b18460",
   "metadata": {},
   "outputs": [
    {
     "name": "stdout",
     "output_type": "stream",
     "text": [
      "what type of brand are u looking for:itel\n",
      "what is your color preference:red\n",
      "what type of memory are looking for:128\n",
      "not available\n"
     ]
    }
   ],
   "source": [
    "hamza.customer()"
   ]
  },
  {
   "cell_type": "code",
   "execution_count": null,
   "id": "6bece64c",
   "metadata": {},
   "outputs": [],
   "source": []
  },
  {
   "cell_type": "code",
   "execution_count": null,
   "id": "b7bac538",
   "metadata": {},
   "outputs": [],
   "source": []
  }
 ],
 "metadata": {
  "kernelspec": {
   "display_name": "Python 3 (ipykernel)",
   "language": "python",
   "name": "python3"
  },
  "language_info": {
   "codemirror_mode": {
    "name": "ipython",
    "version": 3
   },
   "file_extension": ".py",
   "mimetype": "text/x-python",
   "name": "python",
   "nbconvert_exporter": "python",
   "pygments_lexer": "ipython3",
   "version": "3.11.5"
  }
 },
 "nbformat": 4,
 "nbformat_minor": 5
}
