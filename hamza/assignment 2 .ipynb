{
 "cells": [
  {
   "cell_type": "markdown",
   "id": "37cef0ac",
   "metadata": {},
   "source": [
    "## conditional statement\n",
    "\n",
    "## in a given code, a person's eligibility for a job offer is determine based on their age and region.\n",
    "## if the person is eligible,a random state from the provided list a chosen.identify a potential issue in the code and propose\n",
    "## a modification to address it."
   ]
  },
  {
   "cell_type": "code",
   "execution_count": 2,
   "id": "2ab9866f",
   "metadata": {},
   "outputs": [
    {
     "name": "stdout",
     "output_type": "stream",
     "text": [
      "what is your age:30\n",
      "what state are you from:abuja\n",
      "congratulation you are eligiable for this job offer\n"
     ]
    }
   ],
   "source": [
    "age=float(input(\"what is your age:\"))\n",
    "region=input(\"what state are you from:\")\n",
    "if age >=25 and region == \"kogi state\":\n",
    "    print(\"congratulation you are eligiable for this job offer\")\n",
    "elif age >= 25 and region == \"abuja state\":\n",
    "    print(\"congratulation you are eligiable for this job offer\")\n",
    "elif age >= 25 and region == \"bauchi state\":\n",
    "    print(\"congratulation you are eligiable for this job offer\")\n",
    "elif age >= 25 and region == \"imo state\":\n",
    "    print(\"congratulation you are eligiable for this job offer\") \n",
    "elif age >= 25 and region == \"enugu state\":\n",
    "    print(\"congratulation you are eligiable for this job offer\")\n",
    "else:\n",
    "    print(\"sorry you are not eligible for this job offer..try next time\")"
   ]
  },
  {
   "cell_type": "code",
   "execution_count": null,
   "id": "e8e8bd41",
   "metadata": {},
   "outputs": [],
   "source": []
  }
 ],
 "metadata": {
  "kernelspec": {
   "display_name": "Python 3 (ipykernel)",
   "language": "python",
   "name": "python3"
  },
  "language_info": {
   "codemirror_mode": {
    "name": "ipython",
    "version": 3
   },
   "file_extension": ".py",
   "mimetype": "text/x-python",
   "name": "python",
   "nbconvert_exporter": "python",
   "pygments_lexer": "ipython3",
   "version": "3.11.5"
  }
 },
 "nbformat": 4,
 "nbformat_minor": 5
}
