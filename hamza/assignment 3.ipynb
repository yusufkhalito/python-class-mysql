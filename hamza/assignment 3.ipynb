{
 "cells": [
  {
   "cell_type": "markdown",
   "id": "faeb5889",
   "metadata": {},
   "source": [
    "## loops\n",
    "## randomly generate a number and write a program to ask a user to guess until it is correct use a condition to give hint\n",
    "## 1 use the while loop for the iteration\n",
    "# 2 import a module for the given problem."
   ]
  },
  {
   "cell_type": "code",
   "execution_count": null,
   "id": "3095c13e",
   "metadata": {},
   "outputs": [],
   "source": [
    "counter=0\n",
    "num=int(input(\"what is the square number you are looking for:\"))\n",
    "import math\n",
    "while num != 0:\n",
    "    print(f\"the square root of {num} is {math.sqrt(num)}\")\n",
    "    num= int(input(\"enter your number:\"))\n",
    "    counter += 1"
   ]
  },
  {
   "cell_type": "code",
   "execution_count": null,
   "id": "efcd35ca",
   "metadata": {},
   "outputs": [
    {
     "name": "stdout",
     "output_type": "stream",
     "text": [
      "guess a number to win a promo:13\n",
      "sorry try again\n",
      "guess your number:16\n",
      "sorry try again\n",
      "guess your number:17\n",
      "sorry try again\n",
      "guess your number:12\n",
      "sorry try again\n",
      "guess your number:18\n",
      "congratulation you win\n"
     ]
    }
   ],
   "source": [
    "counter=0\n",
    "user=int(input(\"guess a number to win a promo:\"))\n",
    "import random\n",
    "for h in range(10,20):\n",
    "    user=(random.randint(10,20))\n",
    "    if user == 11:\n",
    "        print(\"congratulation you win\")\n",
    "    elif user == 14:\n",
    "        print(\"congratulation you win\")\n",
    "    elif user == 19:\n",
    "        print(\"congratulation you win\")\n",
    "    else:\n",
    "        print(\"sorry try again\")\n",
    "    user=int(input(\"guess your number:\"))\n",
    "    counter += 1"
   ]
  },
  {
   "cell_type": "code",
   "execution_count": null,
   "id": "81ce7329",
   "metadata": {},
   "outputs": [],
   "source": []
  }
 ],
 "metadata": {
  "kernelspec": {
   "display_name": "Python 3 (ipykernel)",
   "language": "python",
   "name": "python3"
  },
  "language_info": {
   "codemirror_mode": {
    "name": "ipython",
    "version": 3
   },
   "file_extension": ".py",
   "mimetype": "text/x-python",
   "name": "python",
   "nbconvert_exporter": "python",
   "pygments_lexer": "ipython3",
   "version": "3.11.5"
  }
 },
 "nbformat": 4,
 "nbformat_minor": 5
}
