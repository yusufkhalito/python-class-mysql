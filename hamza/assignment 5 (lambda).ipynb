{
 "cells": [
  {
   "cell_type": "code",
   "execution_count": 2,
   "id": "2dc49fe3",
   "metadata": {},
   "outputs": [
    {
     "name": "stdout",
     "output_type": "stream",
     "text": [
      "[104.0, 132.8, 158.0, 149.0, 68.0]\n"
     ]
    }
   ],
   "source": [
    "## given a list of temperature in celsius, use map to convert them to fahrenheit using the formular: f - 9/sc + 32.\n",
    "temperature=[40,56,70,65,20]\n",
    "def celsius_fahrenheit(celsius):\n",
    "    return 9/5 * celsius + 32\n",
    "fahrenheit_temperature=list(map(celsius_fahrenheit, temperature))\n",
    "print(fahrenheit_temperature)"
   ]
  },
  {
   "cell_type": "code",
   "execution_count": 10,
   "id": "e4c87c24",
   "metadata": {},
   "outputs": [
    {
     "name": "stdout",
     "output_type": "stream",
     "text": [
      "[25, 49, 64, 529, 2916, 3600, 1156]\n"
     ]
    }
   ],
   "source": [
    "## write a lambda function that square a given number.\n",
    "numbers=[5,7,8,23,54,60,34,]\n",
    "square_root=list(map(lambda h: h**2,numbers))\n",
    "print(square_root)"
   ]
  },
  {
   "cell_type": "code",
   "execution_count": 9,
   "id": "62055056",
   "metadata": {},
   "outputs": [
    {
     "name": "stdout",
     "output_type": "stream",
     "text": [
      "['suleiman', 'chariyt', 'temperature', 'television']\n"
     ]
    }
   ],
   "source": [
    "## filter strings\n",
    "strings=[\"suleiman\",\"hamza\",\"chariyt\",\"temperature\",\"home\",\"television\"]\n",
    "filtered_strings=[strings for strings in strings if len(strings)>5]\n",
    "print(filtered_strings)"
   ]
  },
  {
   "cell_type": "code",
   "execution_count": null,
   "id": "58584304",
   "metadata": {},
   "outputs": [],
   "source": []
  }
 ],
 "metadata": {
  "kernelspec": {
   "display_name": "Python 3 (ipykernel)",
   "language": "python",
   "name": "python3"
  },
  "language_info": {
   "codemirror_mode": {
    "name": "ipython",
    "version": 3
   },
   "file_extension": ".py",
   "mimetype": "text/x-python",
   "name": "python",
   "nbconvert_exporter": "python",
   "pygments_lexer": "ipython3",
   "version": "3.11.5"
  }
 },
 "nbformat": 4,
 "nbformat_minor": 5
}
