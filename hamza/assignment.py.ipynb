{
 "cells": [
  {
   "cell_type": "markdown",
   "id": "d2639ead",
   "metadata": {},
   "source": [
    "## dictionary assignment"
   ]
  },
  {
   "cell_type": "code",
   "execution_count": null,
   "id": "d7bb22ad",
   "metadata": {},
   "outputs": [],
   "source": [
    "## dictionary assignment\n",
    "## how can you use a dictionary to store and access information about a customer orders,including the orders number,date,\n",
    "## and item purchased? 5 records "
   ]
  },
  {
   "cell_type": "code",
   "execution_count": 2,
   "id": "aa79faef",
   "metadata": {},
   "outputs": [
    {
     "name": "stdout",
     "output_type": "stream",
     "text": [
      "20\n",
      "tomato\n",
      "54\n",
      "orage\n",
      "17/11/2023\n",
      "5\n",
      "sugar\n"
     ]
    }
   ],
   "source": [
    "customer={\n",
    "    \"orders\":{\"order1\":\"20\",\"order2\":\"54\",\"order3\":\"5\",\"order4\":\"12\",\"order5\":\"3\"},\n",
    "    \"date\":\"17/11/2023\",\n",
    "    \"items\":{\"item1\":\"tomato\",\"item2\":\"orage\",\"item3\":\"sugar\",\"item4\":\"maggi\",\"item5\":\"salt\"}\n",
    "}"
   ]
  },
  {
   "cell_type": "code",
   "execution_count": null,
   "id": "bfbde93d",
   "metadata": {},
   "outputs": [],
   "source": []
  }
 ],
 "metadata": {
  "kernelspec": {
   "display_name": "Python 3 (ipykernel)",
   "language": "python",
   "name": "python3"
  },
  "language_info": {
   "codemirror_mode": {
    "name": "ipython",
    "version": 3
   },
   "file_extension": ".py",
   "mimetype": "text/x-python",
   "name": "python",
   "nbconvert_exporter": "python",
   "pygments_lexer": "ipython3",
   "version": "3.11.5"
  }
 },
 "nbformat": 4,
 "nbformat_minor": 5
}
