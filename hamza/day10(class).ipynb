{
 "cells": [
  {
   "cell_type": "code",
   "execution_count": 5,
   "id": "f4804084",
   "metadata": {},
   "outputs": [],
   "source": [
    "class car_simulation:\n",
    "    attrl1=\"brand\"\n",
    "    attrl2=\"color\"\n",
    "    attrl3=\"model\"\n",
    "    attrl4=\"year\"\n",
    "    attrl5=\"speed\"\n",
    "    def method_start(self):\n",
    "        brand=input(\"begin simulation of:\")\n",
    "        while brand == self.attrl1:\n",
    "            print(f\" the model of the car{attrl3} determine the movement of the car\")\n",
    "    def chande_gear(self):\n",
    "        change_gear=input(\"speed up to move faster\")\n",
    "        while change_gear == self.attrl5:\n",
    "            print(f\" gear has been changed\")\n",
    "\n",
    "            \n",
    "hamza=car_simulation()       "
   ]
  },
  {
   "cell_type": "code",
   "execution_count": 6,
   "id": "2496212f",
   "metadata": {},
   "outputs": [
    {
     "name": "stdout",
     "output_type": "stream",
     "text": [
      "begin simulation of:lexus\n"
     ]
    }
   ],
   "source": [
    "hamza.method_start()"
   ]
  },
  {
   "cell_type": "code",
   "execution_count": 10,
   "id": "a03b8a84",
   "metadata": {},
   "outputs": [],
   "source": [
    "class simulation:\n",
    "    def __init__(self,brand,model,color,year,speed):\n",
    "        self.brand=brand\n",
    "        self.model=model\n",
    "        self.color=color\n",
    "        self.year=year\n",
    "        self.speed=speed\n",
    "    def start(self):\n",
    "        print(f\"{self.brand}{self.model} has started\")\n",
    "    def gear(self):\n",
    "        option=input(\"choose gear option with [1,2,3,4,5,R]\")\n",
    "        if option == \"1\":\n",
    "            print(f\" gear changed to one{self.speed}\")\n",
    "        elif option == \"2\":\n",
    "            print(f\" gear changed to two{self.speed}\")\n",
    "        elif option == \"3\":\n",
    "            print(f\" gear changed to three{self.speed}\")\n",
    "        elif option == \"4\":\n",
    "            print(f\" gear changed to four{self.speed}\")\n",
    "        elif option == \"5\":\n",
    "            print(f\" gear changed to five{self.speed}\")\n",
    "        elif option == \"R\":\n",
    "            print(f\" gear changed to revers\")\n",
    "    def acceleration(self):\n",
    "        option=input(\"prompt your acceleration option[on,off]\")\n",
    "        if option == \"on\":\n",
    "            print(\"nitro engaged!!\")\n",
    "        if option == \"off\":\n",
    "            print(\"nitro disengaged\")\n",
    "    def stop(self):\n",
    "        print(\"engine off\")\n",
    "        \n",
    "hamza1=simulation(\"lexus\",\"rx350\",\"gold\",2016,\"250mph\")        "
   ]
  },
  {
   "cell_type": "code",
   "execution_count": 8,
   "id": "ca893694",
   "metadata": {},
   "outputs": [
    {
     "name": "stdout",
     "output_type": "stream",
     "text": [
      "lexusrx350 has started\n"
     ]
    }
   ],
   "source": [
    "hamza1.start()"
   ]
  },
  {
   "cell_type": "code",
   "execution_count": 11,
   "id": "cf5c0d6c",
   "metadata": {},
   "outputs": [
    {
     "name": "stdout",
     "output_type": "stream",
     "text": [
      "choose gear option with [1,2,3,4,5,R]3\n",
      " gear changed to three250mph\n"
     ]
    }
   ],
   "source": [
    "hamza1.gear()"
   ]
  },
  {
   "cell_type": "code",
   "execution_count": 12,
   "id": "3ef23556",
   "metadata": {},
   "outputs": [
    {
     "name": "stdout",
     "output_type": "stream",
     "text": [
      "prompt your acceleration option[on,off]on\n",
      "nitro engaged!!\n"
     ]
    }
   ],
   "source": [
    "hamza1.acceleration()"
   ]
  },
  {
   "cell_type": "markdown",
   "id": "eed56236",
   "metadata": {},
   "source": [
    "## INHERITANCE IN CLASS"
   ]
  },
  {
   "cell_type": "code",
   "execution_count": 14,
   "id": "f1865065",
   "metadata": {},
   "outputs": [],
   "source": [
    "class simulation2(simulation):\n",
    "    def openroof(self):\n",
    "        option=input(\"what is condition[open,close]:\")\n",
    "        if option == \"close\":\n",
    "            print(\"roof closed\")\n",
    "        elif option == \"open\":\n",
    "            print(\"roof open\")\n",
    "car=simulation2(\"lexus\",\"rx350\",\"gold\",2016,\"250mph\")            "
   ]
  },
  {
   "cell_type": "code",
   "execution_count": 15,
   "id": "90909505",
   "metadata": {},
   "outputs": [
    {
     "name": "stdout",
     "output_type": "stream",
     "text": [
      "lexusrx350 has started\n"
     ]
    }
   ],
   "source": [
    "car.start()"
   ]
  },
  {
   "cell_type": "code",
   "execution_count": 17,
   "id": "2b9f20c5",
   "metadata": {},
   "outputs": [
    {
     "name": "stdout",
     "output_type": "stream",
     "text": [
      "what is condition[open,close]:open\n",
      "roof open\n"
     ]
    }
   ],
   "source": [
    "car.openroof()"
   ]
  },
  {
   "cell_type": "code",
   "execution_count": 19,
   "id": "9a995f41",
   "metadata": {},
   "outputs": [
    {
     "name": "stdout",
     "output_type": "stream",
     "text": [
      "prompt your acceleration option[on,off]on\n",
      "nitro engaged!!\n"
     ]
    }
   ],
   "source": [
    "car.acceleration()"
   ]
  },
  {
   "cell_type": "raw",
   "id": "976b7ac5",
   "metadata": {},
   "source": [
    "car.stop()"
   ]
  },
  {
   "cell_type": "code",
   "execution_count": null,
   "id": "14bdba6d",
   "metadata": {},
   "outputs": [],
   "source": []
  }
 ],
 "metadata": {
  "kernelspec": {
   "display_name": "Python 3 (ipykernel)",
   "language": "python",
   "name": "python3"
  },
  "language_info": {
   "codemirror_mode": {
    "name": "ipython",
    "version": 3
   },
   "file_extension": ".py",
   "mimetype": "text/x-python",
   "name": "python",
   "nbconvert_exporter": "python",
   "pygments_lexer": "ipython3",
   "version": "3.11.5"
  }
 },
 "nbformat": 4,
 "nbformat_minor": 5
}
