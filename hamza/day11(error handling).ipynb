{
 "cells": [
  {
   "cell_type": "code",
   "execution_count": 1,
   "id": "5209862a",
   "metadata": {},
   "outputs": [],
   "source": [
    "## write a program to the following to display patient record,\n",
    "## calculate their checking fee base on the continent,check their body mass index note\n"
   ]
  },
  {
   "cell_type": "code",
   "execution_count": 9,
   "id": "d3de6163",
   "metadata": {},
   "outputs": [],
   "source": [
    "class patient:\n",
    "    def __init__(self,name,age,hight,weight,complexion,gender):\n",
    "        self.name=name\n",
    "        self.age=age\n",
    "        self.gender=gender\n",
    "        self.hight=hight\n",
    "        self.weight=weight\n",
    "        self.complexion=complexion\n",
    "    def patient1(self):\n",
    "        print(f\"\"\"______patient recoerd_____\n",
    "        \"name\": {self.name},\n",
    "        \"age\":{self.age}\n",
    "        \"gender\":{self.gender}\n",
    "        \"hight\":{self.hight},\n",
    "        \"weight\":{self.weight},\n",
    "        \"complexion\":{self.complexion} \"\"\")\n",
    "    def continentfee(self):\n",
    "        option=input(\"what country are you from,[nigeria,canada,sweden,france]\")\n",
    "        if option ==\"nigeria\":\n",
    "            print(\"your checking fee is $40\")\n",
    "        elif option ==\"canada\":\n",
    "            print(\"your checking fee is $50\")\n",
    "        elif option ==\"sweden\":\n",
    "            print(\"your checking fee is $60\")\n",
    "        elif option ==\"france\":\n",
    "            print(\"your checking fee is $70\")\n",
    "    def BMI (self):\n",
    "        weight=float(input(\"what is your current weight in kg:\"))\n",
    "        height=float(input(\"what is your current height in meter\"))\n",
    "        bmi= weight/height**2\n",
    "        if bmi <16:\n",
    "            print(\"severe thiness see the doctor\")\n",
    "        elif bmi  >=18.5 and bmi < 25:\n",
    "            print(\"healthy weight keep it up\")\n",
    "        elif bmi >=25 and bmi <=30:\n",
    "            print(\"you are over weight keep it up\")\n",
    "        elif bmi >=30 and bmi <= 40:\n",
    "            print(\"you are obase .. see your doctor as soon as possible.\")\n",
    "            \n",
    "hospital=patient(\"hamza\",24,5.4,75,\"fair\",\"male\")            \n",
    "            \n",
    "            \n",
    "        "
   ]
  },
  {
   "cell_type": "code",
   "execution_count": 7,
   "id": "15f83c0b",
   "metadata": {},
   "outputs": [
    {
     "name": "stdout",
     "output_type": "stream",
     "text": [
      "what is your current weight in kg:75\n",
      "what is your current height in meter5.4\n",
      "severe thiness see the doctor\n"
     ]
    }
   ],
   "source": [
    "hospital.BMI()"
   ]
  },
  {
   "cell_type": "code",
   "execution_count": 10,
   "id": "7200533d",
   "metadata": {},
   "outputs": [
    {
     "name": "stdout",
     "output_type": "stream",
     "text": [
      "______patient recoerd_____\n",
      "        \"name\": hamza,\n",
      "        \"age\":24\n",
      "        \"gender\":male\n",
      "        \"hight\":5.4,\n",
      "        \"weight\":75,\n",
      "        \"complexion\":fair \n"
     ]
    }
   ],
   "source": [
    "hospital.patient1()"
   ]
  },
  {
   "cell_type": "code",
   "execution_count": 11,
   "id": "e1739e53",
   "metadata": {},
   "outputs": [
    {
     "name": "stdout",
     "output_type": "stream",
     "text": [
      "what country are you from,[nigeria,canada,sweden,france]france\n",
      "your checking fee is $70\n"
     ]
    }
   ],
   "source": [
    "hospital.continentfee()"
   ]
  },
  {
   "cell_type": "markdown",
   "id": "76b82166",
   "metadata": {},
   "source": [
    "## ERROR HANDLING"
   ]
  },
  {
   "cell_type": "code",
   "execution_count": 13,
   "id": "f507a3a5",
   "metadata": {},
   "outputs": [
    {
     "name": "stdout",
     "output_type": "stream",
     "text": [
      "what is the number78\n",
      "what is the number66\n",
      "78\n",
      "66\n"
     ]
    }
   ],
   "source": [
    "try:\n",
    "    num1=int(input(\"what is the number\"))\n",
    "    num2=int(input(\"what is the number\"))\n",
    "except:\n",
    "    print(\"incorrect input, input the right value\")\n",
    "else:\n",
    "    print(num1)\n",
    "    print(num2)\n"
   ]
  },
  {
   "cell_type": "code",
   "execution_count": null,
   "id": "7d2543e0",
   "metadata": {},
   "outputs": [],
   "source": [
    "try:\n",
    "    num1=int(input(\"what is the number\"))\n",
    "    num2=int(input(\"what is the number\"))\n",
    "    operation=input(\"choose your operators[+,*,-,/]\")\n",
    "    if operation == \"+\":\n",
    "        print(f\"{num1} + {num2} = {num1 +num2}\")\n",
    "    elif operation == \"*\":\n",
    "        print(f\"{num1} * {num2} = {num1 * num2}\")\n",
    "    elif operation == \"-\":\n",
    "        print(f\"{num1} - {num2} = {num1 - num2}\")\n",
    "    elif operation == \"/\":\n",
    "        print(f\"{num1} / {num2} = {num1 / num2}\")\n",
    "except ValueError:\n",
    "    print(\"wrong value try entring another value\")\n",
    "except ZeroDivisionError:\n",
    "    print(\"wrong input zero cannot be divided\")\n",
    "except:\n",
    "    print(\"encouterd two or more error\")\n",
    "finally:\n",
    "    print(\"processes complete\")"
   ]
  },
  {
   "cell_type": "code",
   "execution_count": null,
   "id": "27de7f5e",
   "metadata": {},
   "outputs": [],
   "source": [
    "ZeroDivisionError\n",
    "ValueError"
   ]
  }
 ],
 "metadata": {
  "kernelspec": {
   "display_name": "Python 3 (ipykernel)",
   "language": "python",
   "name": "python3"
  },
  "language_info": {
   "codemirror_mode": {
    "name": "ipython",
    "version": 3
   },
   "file_extension": ".py",
   "mimetype": "text/x-python",
   "name": "python",
   "nbconvert_exporter": "python",
   "pygments_lexer": "ipython3",
   "version": "3.11.5"
  }
 },
 "nbformat": 4,
 "nbformat_minor": 5
}
