{
 "cells": [
  {
   "cell_type": "markdown",
   "id": "b8dedea3",
   "metadata": {},
   "source": [
    "## DATE AND TIME"
   ]
  },
  {
   "cell_type": "code",
   "execution_count": 1,
   "id": "ca142e37",
   "metadata": {},
   "outputs": [
    {
     "name": "stdout",
     "output_type": "stream",
     "text": [
      "['MAXYEAR', 'MINYEAR', 'UTC', '__all__', '__builtins__', '__cached__', '__doc__', '__file__', '__loader__', '__name__', '__package__', '__spec__', 'date', 'datetime', 'datetime_CAPI', 'sys', 'time', 'timedelta', 'timezone', 'tzinfo']\n"
     ]
    }
   ],
   "source": [
    "import datetime\n",
    "print(dir(datetime))"
   ]
  },
  {
   "cell_type": "code",
   "execution_count": 2,
   "id": "fd85a1c0",
   "metadata": {},
   "outputs": [
    {
     "data": {
      "text/plain": [
       "datetime.date(2022, 2, 15)"
      ]
     },
     "execution_count": 2,
     "metadata": {},
     "output_type": "execute_result"
    }
   ],
   "source": [
    "date1=datetime.date(2022,2,15)\n",
    "date1"
   ]
  },
  {
   "cell_type": "code",
   "execution_count": 6,
   "id": "d39eceb0",
   "metadata": {},
   "outputs": [
    {
     "name": "stdout",
     "output_type": "stream",
     "text": [
      "2022\n",
      "15\n",
      "2\n",
      "1\n",
      "2\n"
     ]
    }
   ],
   "source": [
    "print(date1.year)\n",
    "print(date1.day)\n",
    "print(date1.month)\n",
    "print(date1.weekday())\n",
    "print(date1.isoweekday())"
   ]
  },
  {
   "cell_type": "code",
   "execution_count": 9,
   "id": "b7e21100",
   "metadata": {},
   "outputs": [
    {
     "data": {
      "text/plain": [
       "datetime.date(2023, 12, 2)"
      ]
     },
     "execution_count": 9,
     "metadata": {},
     "output_type": "execute_result"
    }
   ],
   "source": [
    "currentdate=datetime.date.today()\n",
    "currentdate"
   ]
  },
  {
   "cell_type": "code",
   "execution_count": 10,
   "id": "d37a6c77",
   "metadata": {},
   "outputs": [
    {
     "data": {
      "text/plain": [
       "'02 of Dec,23'"
      ]
     },
     "execution_count": 10,
     "metadata": {},
     "output_type": "execute_result"
    }
   ],
   "source": [
    "## strftime: this is used for modification of date and time\n",
    "currentdate.strftime(\"%d of %b,%y\")"
   ]
  },
  {
   "cell_type": "code",
   "execution_count": 11,
   "id": "5fec86cd",
   "metadata": {},
   "outputs": [],
   "source": [
    "## time "
   ]
  },
  {
   "cell_type": "code",
   "execution_count": 16,
   "id": "2c3b97a6",
   "metadata": {},
   "outputs": [
    {
     "data": {
      "text/plain": [
       "datetime.time(14, 50, 3, 887912)"
      ]
     },
     "execution_count": 16,
     "metadata": {},
     "output_type": "execute_result"
    }
   ],
   "source": [
    "currenttime1=datetime.datetime.now().time()\n",
    "currenttime1"
   ]
  },
  {
   "cell_type": "code",
   "execution_count": 17,
   "id": "7d8057be",
   "metadata": {},
   "outputs": [
    {
     "data": {
      "text/plain": [
       "'14:50:03:PM'"
      ]
     },
     "execution_count": 17,
     "metadata": {},
     "output_type": "execute_result"
    }
   ],
   "source": [
    "currenttime1.strftime(\"%H:%M:%S:%p\")"
   ]
  },
  {
   "cell_type": "code",
   "execution_count": 19,
   "id": "d537788c",
   "metadata": {},
   "outputs": [
    {
     "name": "stdout",
     "output_type": "stream",
     "text": [
      "enter yiur date[mm/dd/yy]12/2/2023\n"
     ]
    },
    {
     "data": {
      "text/plain": [
       "datetime.date(2023, 12, 2)"
      ]
     },
     "execution_count": 19,
     "metadata": {},
     "output_type": "execute_result"
    }
   ],
   "source": [
    "cdate=input(\"enter yiur date[mm/dd/yy]\")\n",
    "condate=datetime.datetime.strptime(cdate,\"%m/%d/%Y\").date()\n",
    "condate"
   ]
  },
  {
   "cell_type": "code",
   "execution_count": 20,
   "id": "1ba32dfe",
   "metadata": {},
   "outputs": [
    {
     "data": {
      "text/plain": [
       "datetime.date(2023, 7, 5)"
      ]
     },
     "execution_count": 20,
     "metadata": {},
     "output_type": "execute_result"
    }
   ],
   "source": [
    "currentdate - datetime.timedelta(days=150)"
   ]
  },
  {
   "cell_type": "code",
   "execution_count": 21,
   "id": "4ba5d114",
   "metadata": {},
   "outputs": [
    {
     "data": {
      "text/plain": [
       "datetime.date(2024, 1, 21)"
      ]
     },
     "execution_count": 21,
     "metadata": {},
     "output_type": "execute_result"
    }
   ],
   "source": [
    "currentdate + datetime.timedelta(days=50)"
   ]
  },
  {
   "cell_type": "code",
   "execution_count": 38,
   "id": "f2ce066e",
   "metadata": {},
   "outputs": [
    {
     "name": "stdout",
     "output_type": "stream",
     "text": [
      "what is your appointment date[mm//dd//yy]:3/2/2024\n",
      "dear user you have 13 weeks and 0 days until your appointment\n"
     ]
    }
   ],
   "source": [
    "user=input(\"what is your appointment date[mm//dd//yy]:\")\n",
    "date=datetime.datetime.strptime(user,\"%m/%d/%Y\").date()\n",
    "currentdate=datetime.date.today()\n",
    "diff= date - currentdate\n",
    "weeks=diff.days//7\n",
    "nowdays=diff.days % 7\n",
    "print(f\"dear user you have {weeks} weeks and {nowdays} days until your appointment\")"
   ]
  },
  {
   "cell_type": "code",
   "execution_count": 25,
   "id": "098f40da",
   "metadata": {
    "collapsed": true
   },
   "outputs": [
    {
     "ename": "AttributeError",
     "evalue": "'builtin_function_or_method' object has no attribute 'timedelta'",
     "output_type": "error",
     "traceback": [
      "\u001b[1;31m---------------------------------------------------------------------------\u001b[0m",
      "\u001b[1;31mAttributeError\u001b[0m                            Traceback (most recent call last)",
      "Cell \u001b[1;32mIn[25], line 1\u001b[0m\n\u001b[1;32m----> 1\u001b[0m currentdate \u001b[38;5;241m-\u001b[39m date\u001b[38;5;241m.\u001b[39mtimedelta(days\u001b[38;5;241m=\u001b[39m\u001b[38;5;241m30\u001b[39m)\n",
      "\u001b[1;31mAttributeError\u001b[0m: 'builtin_function_or_method' object has no attribute 'timedelta'"
     ]
    }
   ],
   "source": [
    "currentdate - date.timedelta(days=30)"
   ]
  },
  {
   "cell_type": "code",
   "execution_count": null,
   "id": "4c6fc733",
   "metadata": {},
   "outputs": [],
   "source": []
  }
 ],
 "metadata": {
  "kernelspec": {
   "display_name": "Python 3 (ipykernel)",
   "language": "python",
   "name": "python3"
  },
  "language_info": {
   "codemirror_mode": {
    "name": "ipython",
    "version": 3
   },
   "file_extension": ".py",
   "mimetype": "text/x-python",
   "name": "python",
   "nbconvert_exporter": "python",
   "pygments_lexer": "ipython3",
   "version": "3.11.5"
  }
 },
 "nbformat": 4,
 "nbformat_minor": 5
}
