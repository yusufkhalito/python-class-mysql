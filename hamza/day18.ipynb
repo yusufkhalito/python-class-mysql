{
 "cells": [
  {
   "cell_type": "code",
   "execution_count": 1,
   "id": "790c2bc9",
   "metadata": {},
   "outputs": [],
   "source": [
    "import pymysql"
   ]
  },
  {
   "cell_type": "code",
   "execution_count": 2,
   "id": "b824279b",
   "metadata": {},
   "outputs": [
    {
     "name": "stdout",
     "output_type": "stream",
     "text": [
      "enter mysql host:localhost\n",
      "enter user name:root\n",
      "enter the port number:3360\n",
      "input the password:(Omattaiiii1111$)\n"
     ]
    },
    {
     "ename": "OperationalError",
     "evalue": "(2003, \"Can't connect to MySQL server on 'localhost' ([WinError 10061] No connection could be made because the target machine actively refused it)\")",
     "output_type": "error",
     "traceback": [
      "\u001b[1;31m---------------------------------------------------------------------------\u001b[0m",
      "\u001b[1;31mConnectionRefusedError\u001b[0m                    Traceback (most recent call last)",
      "File \u001b[1;32m~\\anaconda3\\Lib\\site-packages\\pymysql\\connections.py:613\u001b[0m, in \u001b[0;36mConnection.connect\u001b[1;34m(self, sock)\u001b[0m\n\u001b[0;32m    612\u001b[0m \u001b[38;5;28;01mtry\u001b[39;00m:\n\u001b[1;32m--> 613\u001b[0m     sock \u001b[38;5;241m=\u001b[39m socket\u001b[38;5;241m.\u001b[39mcreate_connection(\n\u001b[0;32m    614\u001b[0m         (\u001b[38;5;28mself\u001b[39m\u001b[38;5;241m.\u001b[39mhost, \u001b[38;5;28mself\u001b[39m\u001b[38;5;241m.\u001b[39mport), \u001b[38;5;28mself\u001b[39m\u001b[38;5;241m.\u001b[39mconnect_timeout, \u001b[38;5;241m*\u001b[39m\u001b[38;5;241m*\u001b[39mkwargs\n\u001b[0;32m    615\u001b[0m     )\n\u001b[0;32m    616\u001b[0m     \u001b[38;5;28;01mbreak\u001b[39;00m\n",
      "File \u001b[1;32m~\\anaconda3\\Lib\\socket.py:851\u001b[0m, in \u001b[0;36mcreate_connection\u001b[1;34m(address, timeout, source_address, all_errors)\u001b[0m\n\u001b[0;32m    850\u001b[0m \u001b[38;5;28;01mif\u001b[39;00m \u001b[38;5;129;01mnot\u001b[39;00m all_errors:\n\u001b[1;32m--> 851\u001b[0m     \u001b[38;5;28;01mraise\u001b[39;00m exceptions[\u001b[38;5;241m0\u001b[39m]\n\u001b[0;32m    852\u001b[0m \u001b[38;5;28;01mraise\u001b[39;00m ExceptionGroup(\u001b[38;5;124m\"\u001b[39m\u001b[38;5;124mcreate_connection failed\u001b[39m\u001b[38;5;124m\"\u001b[39m, exceptions)\n",
      "File \u001b[1;32m~\\anaconda3\\Lib\\socket.py:836\u001b[0m, in \u001b[0;36mcreate_connection\u001b[1;34m(address, timeout, source_address, all_errors)\u001b[0m\n\u001b[0;32m    835\u001b[0m     sock\u001b[38;5;241m.\u001b[39mbind(source_address)\n\u001b[1;32m--> 836\u001b[0m sock\u001b[38;5;241m.\u001b[39mconnect(sa)\n\u001b[0;32m    837\u001b[0m \u001b[38;5;66;03m# Break explicitly a reference cycle\u001b[39;00m\n",
      "\u001b[1;31mConnectionRefusedError\u001b[0m: [WinError 10061] No connection could be made because the target machine actively refused it",
      "\nDuring handling of the above exception, another exception occurred:\n",
      "\u001b[1;31mOperationalError\u001b[0m                          Traceback (most recent call last)",
      "Cell \u001b[1;32mIn[2], line 62\u001b[0m\n\u001b[0;32m     59\u001b[0m     program\u001b[38;5;241m.\u001b[39mclose\u001b[38;5;241m.\u001b[39mconn()\n\u001b[0;32m     60\u001b[0m \u001b[38;5;28;01mif\u001b[39;00m \u001b[38;5;18m__name__\u001b[39m \u001b[38;5;241m==\u001b[39m \u001b[38;5;124m\"\u001b[39m\u001b[38;5;124m__main__\u001b[39m\u001b[38;5;124m\"\u001b[39m:\n\u001b[1;32m---> 62\u001b[0m     main()\n",
      "Cell \u001b[1;32mIn[2], line 56\u001b[0m, in \u001b[0;36mmain\u001b[1;34m()\u001b[0m\n\u001b[0;32m     54\u001b[0m password\u001b[38;5;241m=\u001b[39m\u001b[38;5;28minput\u001b[39m(\u001b[38;5;124m\"\u001b[39m\u001b[38;5;124minput the password:\u001b[39m\u001b[38;5;124m\"\u001b[39m)\n\u001b[0;32m     55\u001b[0m database\u001b[38;5;241m=\u001b[39m\u001b[38;5;124m\"\u001b[39m\u001b[38;5;124mbank\u001b[39m\u001b[38;5;124m\"\u001b[39m\n\u001b[1;32m---> 56\u001b[0m program\u001b[38;5;241m=\u001b[39mbank(host,user,port,password,database)\n\u001b[0;32m     59\u001b[0m program\u001b[38;5;241m.\u001b[39mclose\u001b[38;5;241m.\u001b[39mconn()\n",
      "Cell \u001b[1;32mIn[2], line 3\u001b[0m, in \u001b[0;36mbank.__init__\u001b[1;34m(self, host, user, port, password, database)\u001b[0m\n\u001b[0;32m      2\u001b[0m \u001b[38;5;28;01mdef\u001b[39;00m \u001b[38;5;21m__init__\u001b[39m(\u001b[38;5;28mself\u001b[39m,host,user,port,password,database):\n\u001b[1;32m----> 3\u001b[0m     \u001b[38;5;28mself\u001b[39m\u001b[38;5;241m.\u001b[39mconn \u001b[38;5;241m=\u001b[39m pymysql\u001b[38;5;241m.\u001b[39mconnect(\n\u001b[0;32m      4\u001b[0m     host\u001b[38;5;241m=\u001b[39mhost,\n\u001b[0;32m      5\u001b[0m     user\u001b[38;5;241m=\u001b[39muser,\n\u001b[0;32m      6\u001b[0m     port\u001b[38;5;241m=\u001b[39mport,\n\u001b[0;32m      7\u001b[0m     password\u001b[38;5;241m=\u001b[39mpassword,\n\u001b[0;32m      8\u001b[0m     database\u001b[38;5;241m=\u001b[39mdatabase\n\u001b[0;32m      9\u001b[0m     )\n\u001b[0;32m     10\u001b[0m     \u001b[38;5;28mself\u001b[39m\u001b[38;5;241m.\u001b[39mcursor \u001b[38;5;241m=\u001b[39m \u001b[38;5;28mself\u001b[39m\u001b[38;5;241m.\u001b[39mconn\u001b[38;5;241m.\u001b[39mcursor()\n\u001b[0;32m     11\u001b[0m     \u001b[38;5;28mself\u001b[39m\u001b[38;5;241m.\u001b[39mcreate_table()\n",
      "File \u001b[1;32m~\\anaconda3\\Lib\\site-packages\\pymysql\\connections.py:353\u001b[0m, in \u001b[0;36mConnection.__init__\u001b[1;34m(self, user, password, host, database, unix_socket, port, charset, sql_mode, read_default_file, conv, use_unicode, client_flag, cursorclass, init_command, connect_timeout, read_default_group, autocommit, local_infile, max_allowed_packet, defer_connect, auth_plugin_map, read_timeout, write_timeout, bind_address, binary_prefix, program_name, server_public_key, ssl, ssl_ca, ssl_cert, ssl_disabled, ssl_key, ssl_verify_cert, ssl_verify_identity, compress, named_pipe, passwd, db)\u001b[0m\n\u001b[0;32m    351\u001b[0m     \u001b[38;5;28mself\u001b[39m\u001b[38;5;241m.\u001b[39m_sock \u001b[38;5;241m=\u001b[39m \u001b[38;5;28;01mNone\u001b[39;00m\n\u001b[0;32m    352\u001b[0m \u001b[38;5;28;01melse\u001b[39;00m:\n\u001b[1;32m--> 353\u001b[0m     \u001b[38;5;28mself\u001b[39m\u001b[38;5;241m.\u001b[39mconnect()\n",
      "File \u001b[1;32m~\\anaconda3\\Lib\\site-packages\\pymysql\\connections.py:664\u001b[0m, in \u001b[0;36mConnection.connect\u001b[1;34m(self, sock)\u001b[0m\n\u001b[0;32m    662\u001b[0m     \u001b[38;5;28;01mif\u001b[39;00m DEBUG:\n\u001b[0;32m    663\u001b[0m         \u001b[38;5;28mprint\u001b[39m(exc\u001b[38;5;241m.\u001b[39mtraceback)\n\u001b[1;32m--> 664\u001b[0m     \u001b[38;5;28;01mraise\u001b[39;00m exc\n\u001b[0;32m    666\u001b[0m \u001b[38;5;66;03m# If e is neither DatabaseError or IOError, It's a bug.\u001b[39;00m\n\u001b[0;32m    667\u001b[0m \u001b[38;5;66;03m# But raising AssertionError hides original error.\u001b[39;00m\n\u001b[0;32m    668\u001b[0m \u001b[38;5;66;03m# So just reraise it.\u001b[39;00m\n\u001b[0;32m    669\u001b[0m \u001b[38;5;28;01mraise\u001b[39;00m\n",
      "\u001b[1;31mOperationalError\u001b[0m: (2003, \"Can't connect to MySQL server on 'localhost' ([WinError 10061] No connection could be made because the target machine actively refused it)\")"
     ]
    }
   ],
   "source": [
    "class bank:\n",
    "    def __init__(self,host,user,port,password,database):\n",
    "        self.conn = pymysql.connect(\n",
    "        host=host,\n",
    "        user=user,\n",
    "        port=port,\n",
    "        password=password,\n",
    "        database=database\n",
    "        )\n",
    "        self.cursor = self.conn.cursor()\n",
    "        self.create_table()\n",
    "    def create_table(self):\n",
    "        self.cursor.execute(\"\"\"\n",
    "        CREATE TABLE IN NOT EXIST ACCOUNT(\n",
    "        ACCOUNT_ID IN AUTO_INCREAMENT PRIMARY KEY NOT NULL,\n",
    "        CUSTOMER_NAME VARCHAR(255) NOT NULL,\n",
    "        BALANCE FLOAT NOT NULL\n",
    "        )\n",
    "        \"\"\")\n",
    "        self.conn.commit()\n",
    "    def add_account(self,customer_name,balance):\n",
    "        self.cursor.execute(\"INSERT INTO ACCOUNT WHERE CUSTOMER_NAME LIKE %s\",(customer_name,balance))\n",
    "        self.conn.commit()\n",
    "        print(\"ADDED ACCOUNT SUCCESSFULLY\")\n",
    "    def search_account(self,keyword):\n",
    "        self.cursor.execute(\"SELECT * FROM ACCOUNTS WHERE ACCOUNT_ID = %s\",(f\"%{keyword}%,\"))\n",
    "        result=self.cursor.fetchall()\n",
    "        if not result:\n",
    "            print(\"no account found\")\n",
    "        else:\n",
    "            print(\"matching account found\")\n",
    "            for row in result:\n",
    "                print(row)\n",
    "    def list_all_accounts(self):\n",
    "        self.cursor.execute(\"SELECT * FROM ACCOUNT\")\n",
    "        result = self.cursor.fetchall()\n",
    "        if not result:\n",
    "            print(\"no account found\")\n",
    "        else:\n",
    "            print(\"all account\")\n",
    "            for row in result:\n",
    "                print(row)\n",
    "    def delete_account(self,account_id):\n",
    "        self.cursor.execute(\"DELETE FROM ACCOUNTS WHERE ACCOUNT_ID = %s\",(account_id,))\n",
    "        self.conn.commit()\n",
    "        print(f\"ACCOUNT DELETED {account_id} SUCCESSFULLY..\")\n",
    "    def close_conn(self):\n",
    "        self.cursor.close()\n",
    "        self.conn.close()\n",
    "def main():\n",
    "    host=input(\"enter mysql host:\")\n",
    "    user=input(\"enter user name:\")\n",
    "    port=int(input(\"enter the port number:\"))\n",
    "    password=input(\"input the password:\")\n",
    "    database=\"bank\"\n",
    "    program=bank(host,user,port,password,database)\n",
    "\n",
    "\n",
    "    program.close.conn()\n",
    "if __name__ == \"__main__\":\n",
    "   \n",
    "    main()\n",
    "                            \n",
    "                                                                               "
   ]
  },
  {
   "cell_type": "code",
   "execution_count": null,
   "id": "de9b4c4b",
   "metadata": {},
   "outputs": [],
   "source": []
  }
 ],
 "metadata": {
  "kernelspec": {
   "display_name": "Python 3 (ipykernel)",
   "language": "python",
   "name": "python3"
  },
  "language_info": {
   "codemirror_mode": {
    "name": "ipython",
    "version": 3
   },
   "file_extension": ".py",
   "mimetype": "text/x-python",
   "name": "python",
   "nbconvert_exporter": "python",
   "pygments_lexer": "ipython3",
   "version": "3.11.5"
  }
 },
 "nbformat": 4,
 "nbformat_minor": 5
}
