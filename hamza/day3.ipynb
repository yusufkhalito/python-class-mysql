{
 "cells": [
  {
   "cell_type": "code",
   "execution_count": 1,
   "id": "52735762",
   "metadata": {},
   "outputs": [
    {
     "name": "stdout",
     "output_type": "stream",
     "text": [
      "23\n",
      "hamza\n",
      "45.0\n",
      "True\n",
      "False\n"
     ]
    }
   ],
   "source": [
    "name1=23\n",
    "name2=\"hamza\"\n",
    "name3=45.0\n",
    "name4=True\n",
    "name5=False\n",
    "print(name1)\n",
    "print(name2)\n",
    "print(name3)\n",
    "print(name4)\n",
    "print(name5)"
   ]
  },
  {
   "cell_type": "markdown",
   "id": "237a9856",
   "metadata": {},
   "source": [
    "## comperison operators\n",
    "## == equal to\n",
    "## != not equal to\n",
    "## > greater than\n",
    "## < less than \n",
    "## >= greater than or equal to\n",
    "##  \n",
    "## <= less or equal to"
   ]
  },
  {
   "cell_type": "code",
   "execution_count": 3,
   "id": "2a241c52",
   "metadata": {},
   "outputs": [
    {
     "name": "stdout",
     "output_type": "stream",
     "text": [
      "what is the number:50\n",
      "what is the second number:45\n",
      "this the result False,True,True,False,True,False\n"
     ]
    }
   ],
   "source": [
    "user1=input(\"what is the number:\")\n",
    "user2=input(\"what is the second number:\")\n",
    "result1=user1 == user2\n",
    "result2=user1 != user2\n",
    "result3=user1 > user2\n",
    "result4=user1 < user2\n",
    "result5=user1 >= user2\n",
    "result6=user1 <= user2\n",
    "print(f'this the result {result1},{result2},{result3},{result4},{result5},{result6}')"
   ]
  },
  {
   "cell_type": "code",
   "execution_count": 4,
   "id": "3b8b6797",
   "metadata": {},
   "outputs": [],
   "source": [
    "## identity operator"
   ]
  },
  {
   "cell_type": "code",
   "execution_count": 5,
   "id": "38003a1f",
   "metadata": {},
   "outputs": [
    {
     "name": "stdout",
     "output_type": "stream",
     "text": [
      "this is  False\n",
      "this is not True\n"
     ]
    }
   ],
   "source": [
    "A=20\n",
    "B=45\n",
    "print(\"this is \",A is B)\n",
    "print(\"this is not\",A is not B)"
   ]
  },
  {
   "cell_type": "code",
   "execution_count": 8,
   "id": "8e9cfb26",
   "metadata": {},
   "outputs": [
    {
     "data": {
      "text/plain": [
       "45"
      ]
     },
     "execution_count": 8,
     "metadata": {},
     "output_type": "execute_result"
    }
   ],
   "source": [
    "A and B"
   ]
  },
  {
   "cell_type": "code",
   "execution_count": 9,
   "id": "c58a66b0",
   "metadata": {},
   "outputs": [
    {
     "data": {
      "text/plain": [
       "20"
      ]
     },
     "execution_count": 9,
     "metadata": {},
     "output_type": "execute_result"
    }
   ],
   "source": [
    "A or B"
   ]
  },
  {
   "cell_type": "code",
   "execution_count": 10,
   "id": "ef4bfb72",
   "metadata": {},
   "outputs": [
    {
     "ename": "NameError",
     "evalue": "name 'true' is not defined",
     "output_type": "error",
     "traceback": [
      "\u001b[1;31m---------------------------------------------------------------------------\u001b[0m",
      "\u001b[1;31mNameError\u001b[0m                                 Traceback (most recent call last)",
      "Cell \u001b[1;32mIn[10], line 1\u001b[0m\n\u001b[1;32m----> 1\u001b[0m a\u001b[38;5;241m=\u001b[39m true\n\u001b[0;32m      2\u001b[0m b\u001b[38;5;241m=\u001b[39m true\n\u001b[0;32m      3\u001b[0m c\u001b[38;5;241m=\u001b[39m false\n",
      "\u001b[1;31mNameError\u001b[0m: name 'true' is not defined"
     ]
    }
   ],
   "source": [
    "a= true\n",
    "b= true\n",
    "c= false"
   ]
  },
  {
   "cell_type": "code",
   "execution_count": 13,
   "id": "e0b3075e",
   "metadata": {},
   "outputs": [
    {
     "name": "stdout",
     "output_type": "stream",
     "text": [
      "mr p made a profit of 0.0\n"
     ]
    }
   ],
   "source": [
    "## mr p bought a goods of 500,000 and sold each of the goods 20,000 what is the profit.\n",
    "buying_price=500000\n",
    "selling_price=20000\n",
    "number_bags=buying_price/selling_price\n",
    "profit=(number_bags*selling_price)-buying_price\n",
    "print(f\"mr p made a profit of {profit}\")"
   ]
  },
  {
   "cell_type": "code",
   "execution_count": null,
   "id": "86a9523a",
   "metadata": {},
   "outputs": [],
   "source": [
    "## create an input function for user to calculate the quantity of food been serve in restaurant\n",
    "## amount for food is #12,000\n",
    "## calculate the amount of each dish"
   ]
  },
  {
   "cell_type": "code",
   "execution_count": 5,
   "id": "fd68d5f4",
   "metadata": {},
   "outputs": [
    {
     "name": "stdout",
     "output_type": "stream",
     "text": [
      "what is the quantity of food served:3\n",
      " what is the amuount of each dish 24000.0\n"
     ]
    }
   ],
   "source": [
    "user=float(input(\"what is the quantity of food served:\"))\n",
    "food_price= 12000\n",
    "quantity=(user * food_price) - food_price\n",
    "print(f\" what is the amuount of each dish {quantity}\")"
   ]
  },
  {
   "cell_type": "code",
   "execution_count": null,
   "id": "8bffc07d",
   "metadata": {},
   "outputs": [],
   "source": []
  }
 ],
 "metadata": {
  "kernelspec": {
   "display_name": "Python 3 (ipykernel)",
   "language": "python",
   "name": "python3"
  },
  "language_info": {
   "codemirror_mode": {
    "name": "ipython",
    "version": 3
   },
   "file_extension": ".py",
   "mimetype": "text/x-python",
   "name": "python",
   "nbconvert_exporter": "python",
   "pygments_lexer": "ipython3",
   "version": "3.11.5"
  }
 },
 "nbformat": 4,
 "nbformat_minor": 5
}
