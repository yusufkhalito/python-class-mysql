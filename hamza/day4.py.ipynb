{
 "cells": [
  {
   "cell_type": "markdown",
   "id": "a65dca7b",
   "metadata": {},
   "source": [
    "## iterable object"
   ]
  },
  {
   "cell_type": "markdown",
   "id": "3b2e7a3a",
   "metadata": {},
   "source": [
    "## iterable object are use to loop over element one by one\n",
    "## turple\n",
    "## list\n",
    "## dictinary"
   ]
  },
  {
   "cell_type": "markdown",
   "id": "a4193794",
   "metadata": {},
   "source": [
    "## turple\n",
    "## turple is unchangeable \n",
    "## you use the bracket to identify turple ()\n",
    "## turple use index location to access each element"
   ]
  },
  {
   "cell_type": "code",
   "execution_count": 9,
   "id": "486edc7f",
   "metadata": {},
   "outputs": [
    {
     "name": "stdout",
     "output_type": "stream",
     "text": [
      "45\n",
      "<class 'tuple'>\n",
      "9\n"
     ]
    }
   ],
   "source": [
    "numbers=(10,24,25,3,45,40,50,60,\"hamza\")\n",
    "print(numbers[4])\n",
    "print(type(numbers))\n",
    "print(len(numbers))"
   ]
  },
  {
   "cell_type": "markdown",
   "id": "45b6bf35",
   "metadata": {},
   "source": [
    "#### forword index\n",
    "print(numbers[6])## this is retriving element using forword index"
   ]
  },
  {
   "cell_type": "code",
   "execution_count": 10,
   "id": "152ca420",
   "metadata": {},
   "outputs": [
    {
     "name": "stdout",
     "output_type": "stream",
     "text": [
      "10\n"
     ]
    }
   ],
   "source": [
    "## backword index\n",
    "print(numbers[-9])## retrieving element using backword index"
   ]
  },
  {
   "cell_type": "code",
   "execution_count": 14,
   "id": "bf288f69",
   "metadata": {},
   "outputs": [
    {
     "name": "stdout",
     "output_type": "stream",
     "text": [
      "(24, 25, 3, 45, 40, 50, 60, 'hamza')\n"
     ]
    }
   ],
   "source": [
    "## forword range\n",
    "print(numbers[1:10])"
   ]
  },
  {
   "cell_type": "code",
   "execution_count": 15,
   "id": "f6cc6445",
   "metadata": {},
   "outputs": [
    {
     "name": "stdout",
     "output_type": "stream",
     "text": [
      "(24, 25, 3, 45, 40, 50, 60)\n"
     ]
    }
   ],
   "source": [
    "## backword range\n",
    "print(numbers[1:-1])"
   ]
  },
  {
   "cell_type": "code",
   "execution_count": 16,
   "id": "1eccdfef",
   "metadata": {},
   "outputs": [
    {
     "name": "stdout",
     "output_type": "stream",
     "text": [
      "(24, 25, 3, 45, 40, 50, 60, 'hamza')\n"
     ]
    }
   ],
   "source": [
    "## ascending order of range\n",
    "print(numbers[1::])"
   ]
  },
  {
   "cell_type": "code",
   "execution_count": 17,
   "id": "40f551c8",
   "metadata": {},
   "outputs": [
    {
     "name": "stdout",
     "output_type": "stream",
     "text": [
      "('hamza', 60, 50, 40, 45, 3, 25, 24, 10)\n"
     ]
    }
   ],
   "source": [
    "## descending order of range\n",
    "print(numbers[::-1])"
   ]
  },
  {
   "cell_type": "markdown",
   "id": "ea72a225",
   "metadata": {},
   "source": [
    "## list"
   ]
  },
  {
   "cell_type": "markdown",
   "id": "55ea3ec5",
   "metadata": {},
   "source": [
    "## list is changeable\n",
    "## use square bracket to identify list []\n",
    "## list use index location to identify index"
   ]
  },
  {
   "cell_type": "code",
   "execution_count": 3,
   "id": "748ee039",
   "metadata": {},
   "outputs": [
    {
     "name": "stdout",
     "output_type": "stream",
     "text": [
      "['strawberry', 'orange', 'mango']\n",
      "<class 'list'>\n",
      "3\n"
     ]
    }
   ],
   "source": [
    "fruits=[\"strawberry\",\"orange\",\"mango\",]\n",
    "print(fruits)\n",
    "print(type(fruits))\n",
    "print(len(fruits))"
   ]
  },
  {
   "cell_type": "code",
   "execution_count": 19,
   "id": "55ef3bf8",
   "metadata": {},
   "outputs": [
    {
     "name": "stdout",
     "output_type": "stream",
     "text": [
      "['strawberry', 'orange', 'mango', 44, 'cherry']\n"
     ]
    }
   ],
   "source": [
    "fruits.append(\"cherry\")## adding of elements to a list\n",
    "print(fruits)"
   ]
  },
  {
   "cell_type": "code",
   "execution_count": 20,
   "id": "81123a70",
   "metadata": {},
   "outputs": [
    {
     "name": "stdout",
     "output_type": "stream",
     "text": [
      "['strawberry', 'orange', 'mango', 44, 'cherry', 'watermelon', 'paw pwa', 'apple']\n"
     ]
    }
   ],
   "source": [
    "fruits.extend([\"watermelon\",\"paw pwa\",\"apple\"])\n",
    "print(fruits)"
   ]
  },
  {
   "cell_type": "code",
   "execution_count": 22,
   "id": "2cd0fe91",
   "metadata": {},
   "outputs": [
    {
     "name": "stdout",
     "output_type": "stream",
     "text": [
      "['strawberry', 'orange', 'mango', 44, 'cherry', 'watermelon', 'paw pwa']\n"
     ]
    }
   ],
   "source": [
    "fruits.remove(\"apple\")\n",
    "print(fruits)"
   ]
  },
  {
   "cell_type": "code",
   "execution_count": 27,
   "id": "0199b7e0",
   "metadata": {},
   "outputs": [
    {
     "name": "stdout",
     "output_type": "stream",
     "text": [
      "['mango', 'orange', 'strawberry']\n"
     ]
    }
   ],
   "source": [
    "fruits.sort()## sort arrange each element alphabetically\n",
    "print(fruits)"
   ]
  },
  {
   "cell_type": "code",
   "execution_count": 28,
   "id": "64e653df",
   "metadata": {},
   "outputs": [
    {
     "name": "stdout",
     "output_type": "stream",
     "text": [
      "['mango', 'orange', 'strawberry']\n"
     ]
    }
   ],
   "source": [
    "item=fruits.copy()## copy() inheriting the element been sorted in a previos list to another variable \n",
    "print(item)"
   ]
  },
  {
   "cell_type": "code",
   "execution_count": 29,
   "id": "1b801cf7",
   "metadata": {},
   "outputs": [
    {
     "name": "stdout",
     "output_type": "stream",
     "text": [
      "['mango', 'orange', 'strawberry']\n"
     ]
    }
   ],
   "source": [
    "print(fruits)"
   ]
  },
  {
   "cell_type": "code",
   "execution_count": null,
   "id": "c7fa809f",
   "metadata": {},
   "outputs": [],
   "source": [
    "## del item \n",
    "## print(item)"
   ]
  },
  {
   "cell_type": "code",
   "execution_count": 30,
   "id": "b8951b10",
   "metadata": {},
   "outputs": [
    {
     "name": "stdout",
     "output_type": "stream",
     "text": [
      "['kogi', 'lagos', 'abuja', 'kano', 'bauchi']\n"
     ]
    }
   ],
   "source": [
    "## exercise\n",
    "nija=[\"kogi\",\"lagos\",\"abuja\",\"kano\",\"bauchi\"]\n",
    "print(nija)"
   ]
  },
  {
   "cell_type": "markdown",
   "id": "0997f28d",
   "metadata": {},
   "source": [
    "## dictionary\n",
    "## dictionary is changeable \n",
    "## you use the curely bracket to identify dictionary {}\n",
    "## dictionary use key to locate the element"
   ]
  },
  {
   "cell_type": "code",
   "execution_count": 27,
   "id": "7c637799",
   "metadata": {},
   "outputs": [
    {
     "name": "stdout",
     "output_type": "stream",
     "text": [
      "<class 'dict'>\n",
      "{'name': 'hamza', 'age': '30', 'marital status': 'married', 'date': '12-11-2023', 'gender': 'male'}\n"
     ]
    }
   ],
   "source": [
    "human={ \n",
    "   \"name\":\"hamza\",\n",
    "    \"age\":\"30\",\n",
    "    \"marital status\":\"married\",\n",
    "    \"date\":\"12-11-2023\",\n",
    "    \"gender\":\"male\"\n",
    "}\n",
    "print(type(human))\n",
    "print(human)"
   ]
  },
  {
   "cell_type": "code",
   "execution_count": 28,
   "id": "006f3217",
   "metadata": {},
   "outputs": [
    {
     "name": "stdout",
     "output_type": "stream",
     "text": [
      "dict_values(['hamza', '30', 'married', '12-11-2023', 'male'])\n"
     ]
    }
   ],
   "source": [
    "print(human.values())"
   ]
  },
  {
   "cell_type": "code",
   "execution_count": 29,
   "id": "fd89ebce",
   "metadata": {},
   "outputs": [
    {
     "name": "stdout",
     "output_type": "stream",
     "text": [
      "dict_keys(['name', 'age', 'marital status', 'date', 'gender'])\n"
     ]
    }
   ],
   "source": [
    "print(human.keys())"
   ]
  },
  {
   "cell_type": "code",
   "execution_count": 31,
   "id": "6af0d9d3",
   "metadata": {},
   "outputs": [
    {
     "name": "stdout",
     "output_type": "stream",
     "text": [
      "hamza\n",
      "30\n",
      "12-11-2023\n",
      "male\n",
      "{'name': 'hamza', 'age': '30', 'marital status': 'married', 'date': '12-11-2023', 'gender': 'male'}\n"
     ]
    }
   ],
   "source": [
    "print(human[\"name\"])\n",
    "print(human[\"age\"])\n",
    "print(human[\"date\"])\n",
    "print(human[\"gender\"])\n",
    "print(human)"
   ]
  },
  {
   "cell_type": "markdown",
   "id": "c23e34aa",
   "metadata": {},
   "source": [
    "## adding of element into the dictionary"
   ]
  },
  {
   "cell_type": "code",
   "execution_count": 37,
   "id": "8b4783a3",
   "metadata": {},
   "outputs": [
    {
     "name": "stdout",
     "output_type": "stream",
     "text": [
      "{'height': 1.9}\n",
      "{'name': 'hamza', 'age': '30', 'marital status': 'married', 'date': '12-11-2023', 'gender': 'male', 'height': 1.9}\n"
     ]
    }
   ],
   "source": [
    "r=({\"height\":1.9})## method1\n",
    "human.update(r)\n",
    "print(r)\n",
    "print(human)"
   ]
  },
  {
   "cell_type": "code",
   "execution_count": 32,
   "id": "5628fad6",
   "metadata": {},
   "outputs": [
    {
     "name": "stdout",
     "output_type": "stream",
     "text": [
      "{'name': 'hamza', 'age': '30', 'marital status': 'married', 'date': '12-11-2023', 'gender': 'male', 'height2': [1.94]}\n"
     ]
    }
   ],
   "source": [
    "human[\"height2\"]=[1.94]## method2\n",
    "print(human)"
   ]
  },
  {
   "cell_type": "code",
   "execution_count": null,
   "id": "def8b462",
   "metadata": {},
   "outputs": [],
   "source": []
  }
 ],
 "metadata": {
  "kernelspec": {
   "display_name": "Python 3 (ipykernel)",
   "language": "python",
   "name": "python3"
  },
  "language_info": {
   "codemirror_mode": {
    "name": "ipython",
    "version": 3
   },
   "file_extension": ".py",
   "mimetype": "text/x-python",
   "name": "python",
   "nbconvert_exporter": "python",
   "pygments_lexer": "ipython3",
   "version": "3.11.5"
  }
 },
 "nbformat": 4,
 "nbformat_minor": 5
}
