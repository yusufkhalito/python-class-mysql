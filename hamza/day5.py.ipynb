{
 "cells": [
  {
   "cell_type": "code",
   "execution_count": 50,
   "id": "364e688e",
   "metadata": {},
   "outputs": [
    {
     "name": "stdout",
     "output_type": "stream",
     "text": [
      "david\n",
      "futhermaths\n"
     ]
    }
   ],
   "source": [
    "student={ \n",
    "    \"name\":{\"name1\":\"david\",\"name2\":\"joy\",\"name3\":\"musa\"},\n",
    "         \"course\":\"science\",\n",
    "         \"subjects\":{\"subject1\":\"futhermaths\",\"subject2\":\"biology\",\"subject3\":\"chemistry\",\"subject4\":\"physics\"}\n",
    "        }\n",
    "print(student[\"name\"][\"name1\"])\n",
    "print(student[\"subjects\"][\"subject1\"])"
   ]
  },
  {
   "cell_type": "code",
   "execution_count": 22,
   "id": "0c21a076",
   "metadata": {},
   "outputs": [
    {
     "name": "stdout",
     "output_type": "stream",
     "text": [
      "20\n",
      "tomato\n",
      "54\n",
      "orage\n",
      "17/11/2023\n"
     ]
    }
   ],
   "source": [
    "customer={\n",
    "    \"orders\":{\"order1\":\"20\",\"order2\":\"54\",\"order3\":\"5\",\"order4\":\"12\",\"order5\":\"3\"},\n",
    "    \"date\":\"17/11/2023\",\n",
    "    \"items\":{\"item1\":\"tomato\",\"item2\":\"orage\",\"item3\":\"sugar\",\"item4\":\"maggi\",\"item5\":\"salt\"}\n",
    "}\n",
    "print(customer[\"orders\"][\"order1\"])\n",
    "print(customer[\"items\"][\"item1\"])\n",
    "print(customer[\"orders\"][\"order2\"])\n",
    "print(customer[\"items\"][\"item2\"])\n",
    "print(customer[\"date\"])"
   ]
  },
  {
   "cell_type": "code",
   "execution_count": 20,
   "id": "646ab06d",
   "metadata": {},
   "outputs": [
    {
     "name": "stdout",
     "output_type": "stream",
     "text": [
      "['__doc__', '__loader__', '__name__', '__package__', '__spec__', 'acos', 'acosh', 'asin', 'asinh', 'atan', 'atan2', 'atanh', 'cbrt', 'ceil', 'comb', 'copysign', 'cos', 'cosh', 'degrees', 'dist', 'e', 'erf', 'erfc', 'exp', 'exp2', 'expm1', 'fabs', 'factorial', 'floor', 'fmod', 'frexp', 'fsum', 'gamma', 'gcd', 'hypot', 'inf', 'isclose', 'isfinite', 'isinf', 'isnan', 'isqrt', 'lcm', 'ldexp', 'lgamma', 'log', 'log10', 'log1p', 'log2', 'modf', 'nan', 'nextafter', 'perm', 'pi', 'pow', 'prod', 'radians', 'remainder', 'sin', 'sinh', 'sqrt', 'tan', 'tanh', 'tau', 'trunc', 'ulp']\n"
     ]
    }
   ],
   "source": [
    "## modules\n",
    "import math\n",
    "print(dir(math))"
   ]
  },
  {
   "cell_type": "code",
   "execution_count": 6,
   "id": "7f94b170",
   "metadata": {},
   "outputs": [
    {
     "name": "stdout",
     "output_type": "stream",
     "text": [
      "25\n",
      "5.0\n",
      "0.9912028118634736\n",
      "-0.13235175009777303\n"
     ]
    }
   ],
   "source": [
    "num=25\n",
    "print(math.floor(num))\n",
    "print(math.sqrt(num))\n",
    "print(math.cos(num))\n",
    "print(math.sin(num))"
   ]
  },
  {
   "cell_type": "code",
   "execution_count": 19,
   "id": "baee5bd6",
   "metadata": {},
   "outputs": [
    {
     "name": "stdout",
     "output_type": "stream",
     "text": [
      "['Counter', 'Decimal', 'Fraction', 'LinearRegression', 'NormalDist', 'StatisticsError', '_SQRT2', '__all__', '__annotations__', '__builtins__', '__cached__', '__doc__', '__file__', '__loader__', '__name__', '__package__', '__spec__', '_coerce', '_convert', '_decimal_sqrt_of_frac', '_exact_ratio', '_fail_neg', '_float_sqrt_of_frac', '_integer_sqrt_of_frac_rto', '_isfinite', '_mean_stdev', '_normal_dist_inv_cdf', '_sqrt_bit_width', '_ss', '_sum', 'bisect_left', 'bisect_right', 'correlation', 'covariance', 'defaultdict', 'erf', 'exp', 'fabs', 'fmean', 'fsum', 'geometric_mean', 'groupby', 'harmonic_mean', 'hypot', 'linear_regression', 'log', 'math', 'mean', 'median', 'median_grouped', 'median_high', 'median_low', 'mode', 'mul', 'multimode', 'namedtuple', 'numbers', 'pstdev', 'pvariance', 'quantiles', 'random', 'reduce', 'repeat', 'sqrt', 'stdev', 'sys', 'tau', 'variance']\n"
     ]
    }
   ],
   "source": [
    "import statistics as stat\n",
    "print(dir(stat))"
   ]
  },
  {
   "cell_type": "code",
   "execution_count": 23,
   "id": "fc46bdbb",
   "metadata": {},
   "outputs": [
    {
     "name": "stdout",
     "output_type": "stream",
     "text": [
      "9.857142857142858\n",
      "9\n",
      "1\n",
      "7.5813053279887415\n"
     ]
    }
   ],
   "source": [
    "num3=[1,5,7,9,10,12,25]\n",
    "print(stat.mean(num3))\n",
    "print(stat.median(num3))\n",
    "print(stat.mode(num3))\n",
    "print(stat.stdev(num3))"
   ]
  },
  {
   "cell_type": "code",
   "execution_count": 11,
   "id": "ee70042b",
   "metadata": {},
   "outputs": [
    {
     "name": "stdout",
     "output_type": "stream",
     "text": [
      "['BPF', 'LOG4', 'NV_MAGICCONST', 'RECIP_BPF', 'Random', 'SG_MAGICCONST', 'SystemRandom', 'TWOPI', '_ONE', '_Sequence', '_Set', '__all__', '__builtins__', '__cached__', '__doc__', '__file__', '__loader__', '__name__', '__package__', '__spec__', '_accumulate', '_acos', '_bisect', '_ceil', '_cos', '_e', '_exp', '_floor', '_index', '_inst', '_isfinite', '_log', '_os', '_pi', '_random', '_repeat', '_sha512', '_sin', '_sqrt', '_test', '_test_generator', '_urandom', '_warn', 'betavariate', 'choice', 'choices', 'expovariate', 'gammavariate', 'gauss', 'getrandbits', 'getstate', 'lognormvariate', 'normalvariate', 'paretovariate', 'randbytes', 'randint', 'random', 'randrange', 'sample', 'seed', 'setstate', 'shuffle', 'triangular', 'uniform', 'vonmisesvariate', 'weibullvariate']\n"
     ]
    }
   ],
   "source": [
    "import random\n",
    "print(dir(random))"
   ]
  },
  {
   "cell_type": "code",
   "execution_count": 13,
   "id": "3c5030cf",
   "metadata": {},
   "outputs": [
    {
     "name": "stdout",
     "output_type": "stream",
     "text": [
      "50\n",
      "None\n"
     ]
    },
    {
     "data": {
      "text/plain": [
       "42"
      ]
     },
     "execution_count": 13,
     "metadata": {},
     "output_type": "execute_result"
    }
   ],
   "source": [
    "num4=[45,50]\n",
    "print(random.choice(num4))\n",
    "print(random.shuffle(num4))\n",
    "random.randint(10,50)"
   ]
  },
  {
   "cell_type": "code",
   "execution_count": 32,
   "id": "c3911aff",
   "metadata": {},
   "outputs": [
    {
     "name": "stdout",
     "output_type": "stream",
     "text": [
      "['Formatter', 'Template', '_ChainMap', '__all__', '__builtins__', '__cached__', '__doc__', '__file__', '__loader__', '__name__', '__package__', '__spec__', '_re', '_sentinel_dict', '_string', 'ascii_letters', 'ascii_lowercase', 'ascii_uppercase', 'capwords', 'digits', 'hexdigits', 'octdigits', 'printable', 'punctuation', 'whitespace']\n"
     ]
    }
   ],
   "source": [
    "import string\n",
    "print(dir(string))"
   ]
  },
  {
   "cell_type": "code",
   "execution_count": 34,
   "id": "bb58c846",
   "metadata": {},
   "outputs": [
    {
     "data": {
      "text/plain": [
       "'abcdefghijklmnopqrstuvwxyzABCDEFGHIJKLMNOPQRSTUVWXYZ'"
      ]
     },
     "execution_count": 34,
     "metadata": {},
     "output_type": "execute_result"
    }
   ],
   "source": [
    "string.ascii_letters"
   ]
  },
  {
   "cell_type": "code",
   "execution_count": 33,
   "id": "4897b4ba",
   "metadata": {},
   "outputs": [
    {
     "data": {
      "text/plain": [
       "'!\"#$%&\\'()*+,-./:;<=>?@[\\\\]^_`{|}~'"
      ]
     },
     "execution_count": 33,
     "metadata": {},
     "output_type": "execute_result"
    }
   ],
   "source": [
    "string.punctuation"
   ]
  },
  {
   "cell_type": "markdown",
   "id": "04cb77f4",
   "metadata": {},
   "source": [
    "## conditional statement"
   ]
  },
  {
   "cell_type": "code",
   "execution_count": 38,
   "id": "a723133a",
   "metadata": {},
   "outputs": [
    {
     "name": "stdout",
     "output_type": "stream",
     "text": [
      "what is your age:15\n",
      "sorry try next time\n"
     ]
    }
   ],
   "source": [
    "user1=float(input(\"what is your age:\"))\n",
    "if user1 > 18:\n",
    "    print(\"you are eligiable to vote\")\n",
    "else:\n",
    "    print(\"sorry try next time\")"
   ]
  },
  {
   "cell_type": "code",
   "execution_count": 42,
   "id": "92f40e07",
   "metadata": {},
   "outputs": [
    {
     "name": "stdout",
     "output_type": "stream",
     "text": [
      "what is your age:16\n",
      "you are eligible for the primary vote\n"
     ]
    }
   ],
   "source": [
    "user1=float(input(\"what is your age:\"))\n",
    "if user1 > 18:\n",
    "    print(\"you are eligible to vote\")\n",
    "elif user1 >=16:\n",
    "    print(\"you are eligible for the primary vote\")\n",
    "else:\n",
    "    print(\"sorry try next time\")"
   ]
  },
  {
   "cell_type": "code",
   "execution_count": 43,
   "id": "baedd4e2",
   "metadata": {},
   "outputs": [],
   "source": [
    "## write a program that uses a rigion and age to determine if a customer has a discount"
   ]
  },
  {
   "cell_type": "code",
   "execution_count": 46,
   "id": "e0ce39b0",
   "metadata": {},
   "outputs": [
    {
     "name": "stdout",
     "output_type": "stream",
     "text": [
      "what is your age:20\n",
      "what region do you reside in:south west\n",
      "congratulation you have a discount\n"
     ]
    }
   ],
   "source": [
    "age=float(input(\"what is your age:\"))\n",
    "region=input(\"what region do you reside in:\")\n",
    "if age >=18 and region == \"south south\":\n",
    "    print(\"congratulation you have a discount\")\n",
    "elif age >= 18 and region == \"south east\":\n",
    "    print(\"congratulation you have a discount\")\n",
    "elif age >= 18 and region == \"south west\":\n",
    "    print(\"congratulation you have a discount\")\n",
    "elif age >= 18 and region == \"north west\":\n",
    "    print(\"congratulation you have a discount\") \n",
    "elif age >= 18 and region == \"west west\":\n",
    "    print(\"congratulation you have a discount\")\n",
    "else:\n",
    "    print(\"sorry no discount is allocated to you..try next time\")\n",
    "    "
   ]
  },
  {
   "cell_type": "code",
   "execution_count": 9,
   "id": "4e164133",
   "metadata": {},
   "outputs": [
    {
     "name": "stdout",
     "output_type": "stream",
     "text": [
      "what type of food is serve in your resturrantmango\n",
      "check the next store sir\n"
     ]
    }
   ],
   "source": [
    "food=input(\"what type of food is serve in your resturrant\")\n",
    "if food == \"rice\":\n",
    "    print(\"you are welcome\")\n",
    "elif food == \"beans\":\n",
    "    print(\"goodby sir\")\n",
    "elif food == \"banana\":\n",
    "    print(\"goodby sir\")\n",
    "elif food == \"amala\":\n",
    "    print(\"goodby sir\") \n",
    "elif food == \"okro\":\n",
    "    print(\"goodby sir\")\n",
    "else:\n",
    "    print(\"check the next store sir\")"
   ]
  },
  {
   "cell_type": "code",
   "execution_count": null,
   "id": "66d6cf42",
   "metadata": {},
   "outputs": [],
   "source": [
    "## dictionary assignment\n",
    "## how can you use a dictionary to store and access information about a customer orders,incuding the orders number,date,\n",
    "## and item purchased? 5 records "
   ]
  }
 ],
 "metadata": {
  "kernelspec": {
   "display_name": "Python 3 (ipykernel)",
   "language": "python",
   "name": "python3"
  },
  "language_info": {
   "codemirror_mode": {
    "name": "ipython",
    "version": 3
   },
   "file_extension": ".py",
   "mimetype": "text/x-python",
   "name": "python",
   "nbconvert_exporter": "python",
   "pygments_lexer": "ipython3",
   "version": "3.11.5"
  }
 },
 "nbformat": 4,
 "nbformat_minor": 5
}
