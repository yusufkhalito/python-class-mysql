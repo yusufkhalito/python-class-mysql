{
 "cells": [
  {
   "cell_type": "markdown",
   "id": "947d232f",
   "metadata": {},
   "source": [
    "## conditional statements"
   ]
  },
  {
   "cell_type": "code",
   "execution_count": 3,
   "id": "8a4714b4",
   "metadata": {},
   "outputs": [
    {
     "name": "stdout",
     "output_type": "stream",
     "text": [
      "physics70\n",
      "maths67\n",
      "chemistry87\n",
      "biology89\n",
      "economics78\n",
      "english90\n",
      "youe avg score is 80.17 and score point is A\n"
     ]
    }
   ],
   "source": [
    "## program software that uses student sybject to look for the average of the score and give a score point\n",
    "grades1=float(input(\"physics\"))\n",
    "grades2=float(input(\"maths\"))\n",
    "grades3=float(input(\"chemistry\"))\n",
    "grades4=float(input(\"biology\"))\n",
    "grades5=float(input(\"economics\"))\n",
    "grades6=float(input(\"english\"))\n",
    "import statistics as stat\n",
    "avg= round(stat.mean([grades1,grades2,grades3,grades4,grades5,grades6]),2)\n",
    "if avg >= 70 and avg <=100:\n",
    "    print(f\"youe avg score is {avg} and score point is A\")\n",
    "elif avg >= 60 and avg <=69.99:\n",
    "    print(f\"youe avg score is {avg} and score point is B\")\n",
    "elif avg >= 50 and avg <=59.99:\n",
    "    print(f\"youe avg score is {avg} and score point is C\")\n",
    "elif avg >= 40 and avg <=49.99:\n",
    "    print(f\"youe avg score is {avg} and score point is  D\")\n",
    "elif avg >= 30 and avg <=39.00:\n",
    "    print(f\"youe avg score is {avg} and score point is E\")\n",
    "else:\n",
    "    print(f\"sorry you failed badly\")          "
   ]
  },
  {
   "cell_type": "markdown",
   "id": "cccb2d97",
   "metadata": {},
   "source": [
    "## loops"
   ]
  },
  {
   "cell_type": "markdown",
   "id": "9b6e20b8",
   "metadata": {},
   "source": [
    "## loops is the act of a programmer to repeat a program over again.\n",
    "## two type of loops\n",
    "## for loop\n",
    "## while loop"
   ]
  },
  {
   "cell_type": "code",
   "execution_count": 5,
   "id": "db2bad4c",
   "metadata": {},
   "outputs": [
    {
     "name": "stdout",
     "output_type": "stream",
     "text": [
      "pppp\n",
      "yyyy\n",
      "tttt\n",
      "hhhh\n",
      "oooo\n",
      "nnnn\n"
     ]
    }
   ],
   "source": [
    "## for loop(using a variable.)\n",
    "word=\"python\"\n",
    "for p in word:\n",
    "    print(p * 4)"
   ]
  },
  {
   "cell_type": "code",
   "execution_count": 1,
   "id": "d238687c",
   "metadata": {},
   "outputs": [
    {
     "name": "stdout",
     "output_type": "stream",
     "text": [
      "enter the character:y\n",
      "yyyyy\n"
     ]
    }
   ],
   "source": [
    "## for loop (using a conditional statements)\n",
    "word=\"python\"\n",
    "user=input(\"enter the character:\")\n",
    "for char in word:\n",
    "    if user == char:\n",
    "        print(char * 5)"
   ]
  },
  {
   "cell_type": "code",
   "execution_count": 11,
   "id": "3de2dd20",
   "metadata": {},
   "outputs": [
    {
     "name": "stdout",
     "output_type": "stream",
     "text": [
      "enter the character:p\n",
      "character found\n"
     ]
    }
   ],
   "source": [
    "word=\"python\"\n",
    "user=input(\"enter the character:\")\n",
    "for char in word:\n",
    "    if user == char:\n",
    "        print(\"character found\")\n",
    "        break\n",
    "    else:\n",
    "        print(\"character not found..\")"
   ]
  },
  {
   "cell_type": "code",
   "execution_count": null,
   "id": "b25ea7dc",
   "metadata": {},
   "outputs": [],
   "source": [
    "## WHILE LOOP"
   ]
  },
  {
   "cell_type": "code",
   "execution_count": null,
   "id": "97172bcf",
   "metadata": {},
   "outputs": [
    {
     "name": "stdout",
     "output_type": "stream",
     "text": [
      "what is the square number you are looking for:34\n",
      "the square root of 34 is 5.830951894845301\n"
     ]
    }
   ],
   "source": [
    "counter=0\n",
    "num=int(input(\"what is the square number you are looking for:\"))\n",
    "import math\n",
    "while num != 0:\n",
    "    print(f\"the square root of {num} is {math.sqrt(num)}\")\n",
    "    num= int(input(\"enter your number:\"))\n",
    "    counter += 1"
   ]
  },
  {
   "cell_type": "code",
   "execution_count": null,
   "id": "eb04eeca",
   "metadata": {},
   "outputs": [],
   "source": [
    "## using while loops for multiplication table "
   ]
  },
  {
   "cell_type": "code",
   "execution_count": 24,
   "id": "e3c5befc",
   "metadata": {},
   "outputs": [
    {
     "name": "stdout",
     "output_type": "stream",
     "text": [
      "what is the number:4\n",
      "4 * 1 = 4\n",
      "4 * 2 = 8\n",
      "4 * 3 = 12\n",
      "4 * 4 = 16\n",
      "4 * 5 = 20\n",
      "4 * 6 = 24\n",
      "4 * 7 = 28\n",
      "4 * 8 = 32\n",
      "4 * 9 = 36\n",
      "4 * 10 = 40\n",
      "4 * 11 = 44\n",
      "4 * 12 = 48\n"
     ]
    }
   ],
   "source": [
    "counter=1\n",
    "num=int(input(\"what is the number:\"))\n",
    "while counter <= 12:\n",
    "    print(f\"{num} * {counter} = {num * counter}\")\n",
    "    counter += 1"
   ]
  },
  {
   "cell_type": "code",
   "execution_count": 27,
   "id": "2a90cc32",
   "metadata": {},
   "outputs": [
    {
     "name": "stdout",
     "output_type": "stream",
     "text": [
      "10\n",
      "9\n",
      "8\n",
      "7\n",
      "6\n",
      "5\n",
      "4\n",
      "3\n",
      "2\n",
      "1\n",
      "happy new year>>>\n"
     ]
    }
   ],
   "source": [
    "## count down using while loops\n",
    "counter=10\n",
    "while counter > 0:\n",
    "    print(counter)\n",
    "    counter -= 1\n",
    "print(\"happy new year>>>\")"
   ]
  },
  {
   "cell_type": "code",
   "execution_count": 6,
   "id": "247b5e18",
   "metadata": {},
   "outputs": [
    {
     "name": "stdout",
     "output_type": "stream",
     "text": [
      "['__doc__', '__loader__', '__name__', '__package__', '__spec__', 'acos', 'acosh', 'asin', 'asinh', 'atan', 'atan2', 'atanh', 'cbrt', 'ceil', 'comb', 'copysign', 'cos', 'cosh', 'degrees', 'dist', 'e', 'erf', 'erfc', 'exp', 'exp2', 'expm1', 'fabs', 'factorial', 'floor', 'fmod', 'frexp', 'fsum', 'gamma', 'gcd', 'hypot', 'inf', 'isclose', 'isfinite', 'isinf', 'isnan', 'isqrt', 'lcm', 'ldexp', 'lgamma', 'log', 'log10', 'log1p', 'log2', 'modf', 'nan', 'nextafter', 'perm', 'pi', 'pow', 'prod', 'radians', 'remainder', 'sin', 'sinh', 'sqrt', 'tan', 'tanh', 'tau', 'trunc', 'ulp']\n"
     ]
    }
   ],
   "source": [
    "import math\n",
    "print(dir(math))"
   ]
  },
  {
   "cell_type": "code",
   "execution_count": null,
   "id": "162b2df4",
   "metadata": {},
   "outputs": [],
   "source": []
  }
 ],
 "metadata": {
  "kernelspec": {
   "display_name": "Python 3 (ipykernel)",
   "language": "python",
   "name": "python3"
  },
  "language_info": {
   "codemirror_mode": {
    "name": "ipython",
    "version": 3
   },
   "file_extension": ".py",
   "mimetype": "text/x-python",
   "name": "python",
   "nbconvert_exporter": "python",
   "pygments_lexer": "ipython3",
   "version": "3.11.5"
  }
 },
 "nbformat": 4,
 "nbformat_minor": 5
}
