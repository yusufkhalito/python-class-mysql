{
 "cells": [
  {
   "cell_type": "code",
   "execution_count": 2,
   "id": "eccc1cb4",
   "metadata": {},
   "outputs": [
    {
     "name": "stdout",
     "output_type": "stream",
     "text": [
      "1\n",
      "2\n",
      "3\n",
      "4\n",
      "5\n",
      "6\n",
      "7\n",
      "8\n",
      "9\n",
      "10\n",
      "11\n",
      "12\n",
      "13\n",
      "14\n",
      "15\n",
      "16\n",
      "17\n",
      "18\n",
      "19\n"
     ]
    }
   ],
   "source": [
    "## RANGE USING FOR LOOPS\n",
    "for h in range(1,20):\n",
    "    print(h)"
   ]
  },
  {
   "cell_type": "code",
   "execution_count": 8,
   "id": "cd9e82ca",
   "metadata": {},
   "outputs": [
    {
     "name": "stdout",
     "output_type": "stream",
     "text": [
      "player one wins\n",
      " player one score is:8\n",
      " player two score is:7\n",
      "player one wins\n",
      " player one score is:6\n",
      " player two score is:2\n",
      "player two wins\n",
      " player one score is:2\n",
      " player two score is:8\n",
      "player one wins\n",
      " player one score is:9\n",
      " player two score is:8\n",
      "player one wins\n",
      " player one score is:6\n",
      " player two score is:4\n",
      "player two wins\n",
      " player one score is:3\n",
      " player two score is:8\n",
      "player two wins\n",
      " player one score is:7\n",
      " player two score is:10\n",
      "player two wins\n",
      " player one score is:6\n",
      " player two score is:7\n",
      "player one wins\n",
      " player one score is:10\n",
      " player two score is:7\n",
      "player one wins\n",
      " player one score is:9\n",
      " player two score is:6\n",
      "PLAYER ONE IS THE OVERALL WINNER BY 30 point\n"
     ]
    }
   ],
   "source": [
    "## DICE RANDOM SELECTION USING FOR LOOPS AND RANGE\n",
    "score1= 0\n",
    "score2= 0\n",
    "import random\n",
    "for i in range(1,11):\n",
    "    dice1=(random.randint(1,6) + random.randint(1,6))\n",
    "    dice2=(random.randint(1,6) + random.randint(1,6))\n",
    "    \n",
    "    if dice1 > dice2:\n",
    "        score1 += 5\n",
    "        print(\"player one wins\")\n",
    "        print(f\" player one score is:{dice1}\")\n",
    "        print(f\" player two score is:{dice2}\")\n",
    "        \n",
    "        \n",
    "    elif dice2 > dice1:\n",
    "        score2 += 5\n",
    "        print(\"player two wins\")\n",
    "        print(f\" player one score is:{dice1}\")\n",
    "        print(f\" player two score is:{dice2}\")\n",
    "        \n",
    "    elif dice1 > dice2:\n",
    "        score2 += 1\n",
    "        score1 += 1\n",
    "        print(\"draw\")\n",
    "        print(f\" player one score is:{dice2}\")\n",
    "        print(f\" player two score is:{dice1}\")\n",
    "if score1 > score2:\n",
    "    print(f\"PLAYER ONE IS THE OVERALL WINNER BY {score1} point\")\n",
    "elif score2 > score1:\n",
    "    print(f\"PLAYER TWO IS THE OVERALL WINNER BY {score2} point\")\n",
    "if score1 == score2:\n",
    "    print(f\"DRAW PLAYER ONE SCORE IS:{score1},PLAYER TWO SCORE IS{score2} point\")"
   ]
  },
  {
   "cell_type": "markdown",
   "id": "07dde0da",
   "metadata": {},
   "source": [
    "## FUNCTIONS\n"
   ]
  },
  {
   "cell_type": "code",
   "execution_count": 22,
   "id": "82d4e8c4",
   "metadata": {},
   "outputs": [
    {
     "name": "stdout",
     "output_type": "stream",
     "text": [
      "son of yusuf\n"
     ]
    }
   ],
   "source": [
    "khalid=\"son of yusuf\"\n",
    "print(khalid)"
   ]
  },
  {
   "cell_type": "code",
   "execution_count": 4,
   "id": "b5261f60",
   "metadata": {},
   "outputs": [
    {
     "name": "stdout",
     "output_type": "stream",
     "text": [
      "welcome to python class\n"
     ]
    }
   ],
   "source": [
    "def greet():\n",
    "    print(f\"welcome to python class\")\n",
    "greet()    "
   ]
  },
  {
   "cell_type": "code",
   "execution_count": 12,
   "id": "53f8392e",
   "metadata": {},
   "outputs": [
    {
     "name": "stdout",
     "output_type": "stream",
     "text": [
      "welcome to python class hamza\n"
     ]
    }
   ],
   "source": [
    "def greet2(name):\n",
    "    print(f\"welcome to python class {name}\")\n",
    "greet2(\"hamza\")    "
   ]
  },
  {
   "cell_type": "code",
   "execution_count": 13,
   "id": "e8fb9885",
   "metadata": {},
   "outputs": [
    {
     "name": "stdout",
     "output_type": "stream",
     "text": [
      "__________CITIZEN DETAILS_________\n",
      "    \"name\": hamza\n",
      "    \"gender\": male\n",
      "    \"age\": 20\n",
      "    \n",
      "you are eligible to vote\n"
     ]
    }
   ],
   "source": [
    "def vote(name,age,gender):\n",
    "    print(f\"\"\"__________CITIZEN DETAILS_________\n",
    "    \"name\": {name}\n",
    "    \"gender\": {gender}\n",
    "    \"age\": {age}\n",
    "    \"\"\")\n",
    "    if age > 18:\n",
    "        print(\"you are eligible to vote\")\n",
    "    elif age > 16:\n",
    "        print(\"you are eligible to vote primary section\")\n",
    "    else:\n",
    "        print(\"you are not eligible to vote\")\n",
    "vote(\"hamza\",20,\"male\")        "
   ]
  },
  {
   "cell_type": "code",
   "execution_count": 14,
   "id": "d8ab59f7",
   "metadata": {},
   "outputs": [
    {
     "name": "stdout",
     "output_type": "stream",
     "text": [
      "__________CITIZEN DETAILS_________\n",
      "    \"name\": hamza\n",
      "    \"gender\": male\n",
      "    \"age\": 80\n",
      "    \n",
      "you are eligible to vote\n"
     ]
    }
   ],
   "source": [
    "def vote(name,gender,age=18,):## default parameters\n",
    "    print(f\"\"\"__________CITIZEN DETAILS_________\n",
    "    \"name\": {name}\n",
    "    \"gender\": {gender}\n",
    "    \"age\": {age}\n",
    "    \"\"\")\n",
    "    if age > 18:\n",
    "        print(\"you are eligible to vote\")\n",
    "    else:\n",
    "        print(\"you are not eligible to vote\")\n",
    "cdvote(\"hamza\",\"male\",80)        "
   ]
  },
  {
   "cell_type": "code",
   "execution_count": null,
   "id": "23bac4da",
   "metadata": {},
   "outputs": [],
   "source": [
    "## exercise \n",
    "## write a python program that takes input from a student for score in 8 subjects\n",
    "## "
   ]
  },
  {
   "cell_type": "code",
   "execution_count": 23,
   "id": "2f56ec67",
   "metadata": {},
   "outputs": [
    {
     "name": "stdout",
     "output_type": "stream",
     "text": [
      "physics45\n",
      "f maths69\n",
      "crk90\n",
      "agric97\n",
      "health edu70\n",
      "maths67\n",
      "biology78\n",
      "geography68\n",
      "youe avg score is 73.0 and score point is A\n"
     ]
    }
   ],
   "source": [
    "def scores(physics,f_math,crk,agric,health_edu,maths,biology,geography,):\n",
    "    grades1=float(input(\"physics\"))\n",
    "    grades2=float(input(\"f maths\"))\n",
    "    grades3=float(input(\"crk\"))\n",
    "    grades4=float(input(\"agric\"))\n",
    "    grades5=float(input(\"health edu\"))\n",
    "    grades6=float(input(\"maths\"))\n",
    "    grades7=float(input(\"biology\"))\n",
    "    grades8=float(input(\"geography\"))\n",
    "    import statistics as stat\n",
    "    avg= round(stat.mean([grades1,grades2,grades3,grades4,grades5,grades6,grades7,grades8]),2)\n",
    "    if avg >= 70 and avg <=100:\n",
    "        print(f\"youe avg score is {avg} and score point is A\")\n",
    "    elif avg >= 60 and avg <=69.99:\n",
    "        print(f\"youe avg score is {avg} and score point is B\")\n",
    "    elif avg >= 50 and avg <=59.99:\n",
    "        print(f\"youe avg score is {avg} and score point is C\")\n",
    "    elif avg >= 40 and avg <=49.99:\n",
    "        print(f\"youe avg score is {avg} and score point is  D\")\n",
    "    elif avg >= 30 and avg <=39.00:\n",
    "        print(f\"youe avg score is {avg} and score point is E\")\n",
    "    else:\n",
    "        print(f\"sorry you failed badly\")\n",
    "scores(\"physics\",\"f math\",\"crk\",\"agric\",\"health edu\",\"maths\",\"biology\",\"geography\")    "
   ]
  },
  {
   "cell_type": "code",
   "execution_count": 23,
   "id": "44d013a9",
   "metadata": {},
   "outputs": [
    {
     "name": "stdout",
     "output_type": "stream",
     "text": [
      "['BPF', 'LOG4', 'NV_MAGICCONST', 'RECIP_BPF', 'Random', 'SG_MAGICCONST', 'SystemRandom', 'TWOPI', '_ONE', '_Sequence', '_Set', '__all__', '__builtins__', '__cached__', '__doc__', '__file__', '__loader__', '__name__', '__package__', '__spec__', '_accumulate', '_acos', '_bisect', '_ceil', '_cos', '_e', '_exp', '_floor', '_index', '_inst', '_isfinite', '_log', '_os', '_pi', '_random', '_repeat', '_sha512', '_sin', '_sqrt', '_test', '_test_generator', '_urandom', '_warn', 'betavariate', 'choice', 'choices', 'expovariate', 'gammavariate', 'gauss', 'getrandbits', 'getstate', 'lognormvariate', 'normalvariate', 'paretovariate', 'randbytes', 'randint', 'random', 'randrange', 'sample', 'seed', 'setstate', 'shuffle', 'triangular', 'uniform', 'vonmisesvariate', 'weibullvariate']\n"
     ]
    }
   ],
   "source": [
    "import random\n",
    "print(dir(random))"
   ]
  },
  {
   "cell_type": "code",
   "execution_count": 36,
   "id": "262e4aa7",
   "metadata": {},
   "outputs": [
    {
     "data": {
      "text/plain": [
       "52"
      ]
     },
     "execution_count": 36,
     "metadata": {},
     "output_type": "execute_result"
    }
   ],
   "source": [
    "word3=(28,56)\n",
    "random.randint(28,56)"
   ]
  },
  {
   "cell_type": "code",
   "execution_count": 2,
   "id": "eab142ee",
   "metadata": {},
   "outputs": [
    {
     "name": "stdout",
     "output_type": "stream",
     "text": [
      "['BPF', 'LOG4', 'NV_MAGICCONST', 'RECIP_BPF', 'Random', 'SG_MAGICCONST', 'SystemRandom', 'TWOPI', '_ONE', '_Sequence', '_Set', '__all__', '__builtins__', '__cached__', '__doc__', '__file__', '__loader__', '__name__', '__package__', '__spec__', '_accumulate', '_acos', '_bisect', '_ceil', '_cos', '_e', '_exp', '_floor', '_index', '_inst', '_isfinite', '_log', '_os', '_pi', '_random', '_repeat', '_sha512', '_sin', '_sqrt', '_test', '_test_generator', '_urandom', '_warn', 'betavariate', 'choice', 'choices', 'expovariate', 'gammavariate', 'gauss', 'getrandbits', 'getstate', 'lognormvariate', 'normalvariate', 'paretovariate', 'randbytes', 'randint', 'random', 'randrange', 'sample', 'seed', 'setstate', 'shuffle', 'triangular', 'uniform', 'vonmisesvariate', 'weibullvariate']\n"
     ]
    }
   ],
   "source": [
    "import random\n",
    "print(dir(random))"
   ]
  },
  {
   "cell_type": "code",
   "execution_count": 11,
   "id": "d8a01505",
   "metadata": {},
   "outputs": [
    {
     "data": {
      "text/plain": [
       "22"
      ]
     },
     "execution_count": 11,
     "metadata": {},
     "output_type": "execute_result"
    }
   ],
   "source": [
    "word5=(10,100)\n",
    "random.randint(10,100)"
   ]
  },
  {
   "cell_type": "code",
   "execution_count": 19,
   "id": "0eed12fb",
   "metadata": {},
   "outputs": [
    {
     "name": "stdout",
     "output_type": "stream",
     "text": [
      "hello,world\n"
     ]
    }
   ],
   "source": [
    "word2 = \"hello,world\"\n",
    "print(word2)\n"
   ]
  },
  {
   "cell_type": "code",
   "execution_count": null,
   "id": "eecb179b",
   "metadata": {},
   "outputs": [],
   "source": []
  },
  {
   "cell_type": "code",
   "execution_count": null,
   "id": "f5d74f1f",
   "metadata": {},
   "outputs": [],
   "source": []
  }
 ],
 "metadata": {
  "kernelspec": {
   "display_name": "Python 3 (ipykernel)",
   "language": "python",
   "name": "python3"
  },
  "language_info": {
   "codemirror_mode": {
    "name": "ipython",
    "version": 3
   },
   "file_extension": ".py",
   "mimetype": "text/x-python",
   "name": "python",
   "nbconvert_exporter": "python",
   "pygments_lexer": "ipython3",
   "version": "3.11.5"
  }
 },
 "nbformat": 4,
 "nbformat_minor": 5
}
