{
 "cells": [
  {
   "cell_type": "code",
   "execution_count": null,
   "id": "abb01dbb",
   "metadata": {},
   "outputs": [],
   "source": [
    "## using a function, write a program to calculate the total cost of a customer' purchase "
   ]
  },
  {
   "cell_type": "code",
   "execution_count": 2,
   "id": "3e49d4a1",
   "metadata": {},
   "outputs": [
    {
     "name": "stdout",
     "output_type": "stream",
     "text": [
      "customer purchaseamount:500000\n",
      "customer region:north east\n",
      "____customer receipt____\n",
      "        \"purchase amount\":500000.0\n",
      "        \"discount\":60000.0\n",
      "        \"tax vax\":175000.0\n",
      "        \"total amount including vat minus discount\":615000.0\n"
     ]
    }
   ],
   "source": [
    "def boardstore():\n",
    "    purchaseamount=float(input(\"customer purchaseamount:\"))\n",
    "    region=input(\"customer region:\")\n",
    "    if purchaseamount >= 500000 and region == \"south south\":\n",
    "        print(f\"\"\"____customer receipt____\n",
    "        \"purchase amount\":{purchaseamount}\n",
    "        \"discount\":{purchaseamount * 0.15}\n",
    "        \"tax vax\":{purchaseamount * 0.35}\n",
    "        \"total amount including vat minus discount\":{purchaseamount + (purchaseamount * 0.35)- (purchaseamount * 0.15)}\"\"\")\n",
    "    elif purchaseamount >= 500000 and region == \"south east\":\n",
    "        print(f\"\"\"____customer receipt____\n",
    "        \"purchase amount\":{purchaseamount}\n",
    "        \"discount\":{purchaseamount * 0.10}\n",
    "        \"tax vax\":{purchaseamount * 0.35}\n",
    "        \"total amount including vat minus discount\":{purchaseamount + (purchaseamount * 0.35)- (purchaseamount * 0.10)}\"\"\")\n",
    "    elif purchaseamount >= 500000 and region == \"south west\":\n",
    "        print(f\"\"\"____customer receipt____\n",
    "        \"purchase amount\":{purchaseamount}\n",
    "        \"discount\":{purchaseamount * 0.8}\n",
    "        \"tax vax\":{purchaseamount * 0.35}\n",
    "        \"total amount including vat minus discount\":{purchaseamount + (purchaseamount * 0.35)- (purchaseamount * 0.8)}\"\"\")\n",
    "    elif purchaseamount >= 500000 and region == \"north east\":\n",
    "        print(f\"\"\"____customer receipt____\n",
    "        \"purchase amount\":{purchaseamount}\n",
    "        \"discount\":{purchaseamount * 0.12}\n",
    "        \"tax vax\":{purchaseamount * 0.35}\n",
    "        \"total amount including vat minus discount\":{purchaseamount + (purchaseamount * 0.35)- (purchaseamount * 0.12)}\"\"\")\n",
    "    elif purchaseamount >= 500000 and region == \"north west\":\n",
    "        print(f\"\"\"____customer receipt____\n",
    "        \"purchase amount\":{purchaseamount}\n",
    "        \"discount\":{purchaseamount * 0.11}\n",
    "        \"tax vax\":{purchaseamount * 0.35}\n",
    "        \"total amount including vat minus discount\":{purchaseamount + (purchaseamount * 0.35)- (purchaseamount * 0.11)}\"\"\")\n",
    "    elif purchaseamount >= 500000 and region == \"north central\":\n",
    "        print(f\"\"\"____customer receipt____\n",
    "        \"purchase amount\":{purchaseamount}\n",
    "        \"discount\":{purchaseamount * 0.6}\n",
    "        \"tax vax\":{purchaseamount * 0.35}\n",
    "        \"total amount including vat minus discount\":{purchaseamount + (purchaseamount * 0.35)- (purchaseamount * 0.6)}\"\"\")\n",
    "    else:\n",
    "        print(f\"\"\"_____customer reciept____\n",
    "        \"purchase amount\":{purchaseamount}\n",
    "        \"tax vax\":{purchaseamount * 0.35}\n",
    "        \"total amount including vat minus discount\":{purchaseamount + (purchaseamount * 0.35)}\n",
    "        \"sorry you are not eligible for discount!!!\"\"\")\n",
    "boardstore()        \n",
    "                          \n",
    "                          \n",
    "                          \n",
    "                          \n",
    "                      \n",
    "             \n",
    "        "
   ]
  },
  {
   "cell_type": "markdown",
   "id": "49f3d517",
   "metadata": {},
   "source": [
    "## lambda"
   ]
  },
  {
   "cell_type": "code",
   "execution_count": 3,
   "id": "004e94a0",
   "metadata": {},
   "outputs": [
    {
     "data": {
      "text/plain": [
       "13"
      ]
     },
     "execution_count": 3,
     "metadata": {},
     "output_type": "execute_result"
    }
   ],
   "source": [
    "def add(x,y):\n",
    "    return x + y\n",
    "add(6,7)"
   ]
  },
  {
   "cell_type": "code",
   "execution_count": 4,
   "id": "86427f7e",
   "metadata": {},
   "outputs": [
    {
     "data": {
      "text/plain": [
       "9"
      ]
     },
     "execution_count": 4,
     "metadata": {},
     "output_type": "execute_result"
    }
   ],
   "source": [
    "(lambda x,y: x+y)(4,5)"
   ]
  },
  {
   "cell_type": "code",
   "execution_count": 11,
   "id": "4dd776f4",
   "metadata": {},
   "outputs": [
    {
     "data": {
      "text/plain": [
       "54"
      ]
     },
     "execution_count": 11,
     "metadata": {},
     "output_type": "execute_result"
    }
   ],
   "source": [
    "(lambda x,y,z: x+y*z)(4,5,10)"
   ]
  },
  {
   "cell_type": "code",
   "execution_count": 14,
   "id": "3f02fa05",
   "metadata": {},
   "outputs": [
    {
     "name": "stdout",
     "output_type": "stream",
     "text": [
      "enter passwordSuleiman\n"
     ]
    },
    {
     "data": {
      "text/plain": [
       "'Suleiman is correct'"
      ]
     },
     "execution_count": 14,
     "metadata": {},
     "output_type": "execute_result"
    }
   ],
   "source": [
    "## write a lambda function giving a user password to (lambda password start with an upper case and 8 len of 8)\n",
    "(lambda password:f\"{password} is correct\" if password[0]==password[0].upper() and len(password)>= 8 else \"incorrect password requirement\")(input(\"enter password\"))"
   ]
  },
  {
   "cell_type": "markdown",
   "id": "45bfd836",
   "metadata": {},
   "source": [
    "## filter function"
   ]
  },
  {
   "cell_type": "code",
   "execution_count": 7,
   "id": "d99400b5",
   "metadata": {},
   "outputs": [
    {
     "name": "stdout",
     "output_type": "stream",
     "text": [
      "[1, 5]\n"
     ]
    }
   ],
   "source": [
    "num2=[1,2,5,8,10]\n",
    "nlist=list(filter(lambda h: h % 2 != 0, num2))\n",
    "print(nlist)"
   ]
  },
  {
   "cell_type": "code",
   "execution_count": 17,
   "id": "82932da0",
   "metadata": {},
   "outputs": [
    {
     "name": "stdout",
     "output_type": "stream",
     "text": [
      "[2, 8, 10]\n"
     ]
    }
   ],
   "source": [
    "num2=[1,2,5,8,10]\n",
    "nlist=list(filter(lambda x: x % 2 == 0, num2))\n",
    "print(nlist)"
   ]
  },
  {
   "cell_type": "code",
   "execution_count": 6,
   "id": "6ed9e9ae",
   "metadata": {},
   "outputs": [
    {
     "name": "stdout",
     "output_type": "stream",
     "text": [
      "what is your number4\n"
     ]
    },
    {
     "data": {
      "text/plain": [
       "'4 is even'"
      ]
     },
     "execution_count": 6,
     "metadata": {},
     "output_type": "execute_result"
    }
   ],
   "source": [
    "(lambda usernumber:f\"{usernumber} is even\"if usernumber % 2 == 0 else f\"{usernumber} is odd\")(int(input(\"what is your number\")))"
   ]
  },
  {
   "cell_type": "code",
   "execution_count": 1,
   "id": "d6226183",
   "metadata": {},
   "outputs": [
    {
     "ename": "TypeError",
     "evalue": "'>' not supported between instances of 'str' and 'int'",
     "output_type": "error",
     "traceback": [
      "\u001b[1;31m---------------------------------------------------------------------------\u001b[0m",
      "\u001b[1;31mTypeError\u001b[0m                                 Traceback (most recent call last)",
      "Cell \u001b[1;32mIn[1], line 2\u001b[0m\n\u001b[0;32m      1\u001b[0m num3\u001b[38;5;241m=\u001b[39m[\u001b[38;5;124m\"\u001b[39m\u001b[38;5;124msuleimabn,hamza,charity,khalid,temperatuer\u001b[39m\u001b[38;5;124m\"\u001b[39m]\n\u001b[1;32m----> 2\u001b[0m strings\u001b[38;5;241m=\u001b[39m\u001b[38;5;28mlist\u001b[39m(\u001b[38;5;28mfilter\u001b[39m(\u001b[38;5;28;01mlambda\u001b[39;00m name: name \u001b[38;5;241m>\u001b[39m \u001b[38;5;241m6\u001b[39m \u001b[38;5;241m==\u001b[39m \u001b[38;5;241m6\u001b[39m, num3))\n\u001b[0;32m      3\u001b[0m \u001b[38;5;28mprint\u001b[39m(strigs)\n",
      "Cell \u001b[1;32mIn[1], line 2\u001b[0m, in \u001b[0;36m<lambda>\u001b[1;34m(name)\u001b[0m\n\u001b[0;32m      1\u001b[0m num3\u001b[38;5;241m=\u001b[39m[\u001b[38;5;124m\"\u001b[39m\u001b[38;5;124msuleimabn,hamza,charity,khalid,temperatuer\u001b[39m\u001b[38;5;124m\"\u001b[39m]\n\u001b[1;32m----> 2\u001b[0m strings\u001b[38;5;241m=\u001b[39m\u001b[38;5;28mlist\u001b[39m(\u001b[38;5;28mfilter\u001b[39m(\u001b[38;5;28;01mlambda\u001b[39;00m name: name \u001b[38;5;241m>\u001b[39m \u001b[38;5;241m6\u001b[39m \u001b[38;5;241m==\u001b[39m \u001b[38;5;241m6\u001b[39m, num3))\n\u001b[0;32m      3\u001b[0m \u001b[38;5;28mprint\u001b[39m(strigs)\n",
      "\u001b[1;31mTypeError\u001b[0m: '>' not supported between instances of 'str' and 'int'"
     ]
    }
   ],
   "source": [
    "num3=[\"suleimabn,hamza,charity,khalid,temperatuer\"]\n",
    "strings=list(filter(lambda name: name > 6 == 6, num3))\n",
    "print(strigs)"
   ]
  },
  {
   "cell_type": "code",
   "execution_count": null,
   "id": "a09ea39c",
   "metadata": {},
   "outputs": [],
   "source": []
  }
 ],
 "metadata": {
  "kernelspec": {
   "display_name": "Python 3 (ipykernel)",
   "language": "python",
   "name": "python3"
  },
  "language_info": {
   "codemirror_mode": {
    "name": "ipython",
    "version": 3
   },
   "file_extension": ".py",
   "mimetype": "text/x-python",
   "name": "python",
   "nbconvert_exporter": "python",
   "pygments_lexer": "ipython3",
   "version": "3.11.5"
  }
 },
 "nbformat": 4,
 "nbformat_minor": 5
}
