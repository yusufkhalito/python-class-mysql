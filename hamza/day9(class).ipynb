{
 "cells": [
  {
   "cell_type": "markdown",
   "id": "4656a3f8",
   "metadata": {},
   "source": [
    "## class!"
   ]
  },
  {
   "cell_type": "code",
   "execution_count": 2,
   "id": "565b26cd",
   "metadata": {},
   "outputs": [],
   "source": [
    "class person:\n",
    "    attrl1=\"sam\"\n",
    "    attrl2=\"dark\"\n",
    "    attrl3=\"height\"\n",
    "person1=person()"
   ]
  },
  {
   "cell_type": "code",
   "execution_count": 3,
   "id": "2327d1b0",
   "metadata": {},
   "outputs": [
    {
     "data": {
      "text/plain": [
       "'sam'"
      ]
     },
     "execution_count": 3,
     "metadata": {},
     "output_type": "execute_result"
    }
   ],
   "source": [
    "person1.attrl1"
   ]
  },
  {
   "cell_type": "code",
   "execution_count": 4,
   "id": "798618be",
   "metadata": {},
   "outputs": [
    {
     "data": {
      "text/plain": [
       "'dark'"
      ]
     },
     "execution_count": 4,
     "metadata": {},
     "output_type": "execute_result"
    }
   ],
   "source": [
    "person1.attrl2"
   ]
  },
  {
   "cell_type": "code",
   "execution_count": 5,
   "id": "bbafaf96",
   "metadata": {},
   "outputs": [
    {
     "data": {
      "text/plain": [
       "'height'"
      ]
     },
     "execution_count": 5,
     "metadata": {},
     "output_type": "execute_result"
    }
   ],
   "source": [
    "person1.attrl3"
   ]
  },
  {
   "cell_type": "markdown",
   "id": "ada9bbfa",
   "metadata": {},
   "source": [
    "## ADDING FUNCTIONS TO CLASS (METHOD)"
   ]
  },
  {
   "cell_type": "code",
   "execution_count": 1,
   "id": "d9826dc0",
   "metadata": {},
   "outputs": [],
   "source": [
    "class person:\n",
    "    attrl1=\"hamza\"\n",
    "    attrl2=\"fair\"\n",
    "    \n",
    "    def details(self):\n",
    "        print(f\"\"\"name:{self.attrl1}\n",
    "        complexion:{self.attrl2}\"\"\")\n",
    "    def action(self):\n",
    "        print(f\"\"\"my name is {self.attrl1} i am {self.attrl2} in complexion\"\"\")\n",
    "person2=person()   "
   ]
  },
  {
   "cell_type": "code",
   "execution_count": 4,
   "id": "10d6ed11",
   "metadata": {},
   "outputs": [
    {
     "name": "stdout",
     "output_type": "stream",
     "text": [
      "name:hamza\n",
      "        complexion:fair\n"
     ]
    }
   ],
   "source": [
    "person2.details()"
   ]
  },
  {
   "cell_type": "code",
   "execution_count": 5,
   "id": "1af6ed6e",
   "metadata": {},
   "outputs": [
    {
     "name": "stdout",
     "output_type": "stream",
     "text": [
      "my name is hamza i am fair in complexion\n"
     ]
    }
   ],
   "source": [
    "person2.action()"
   ]
  },
  {
   "cell_type": "code",
   "execution_count": 21,
   "id": "a88daad5",
   "metadata": {},
   "outputs": [],
   "source": [
    "class monieapp:\n",
    "    def __init__(self):\n",
    "        self.balance = 0\n",
    "    def deposit(self):\n",
    "        amount=float(input(\"enter deposit amount:\"))\n",
    "        self.balance += amount\n",
    "        print(\"transaction successfull..\")\n",
    "    def transfer(self):\n",
    "        amount=float(input(\"enter transfer anount:\"))\n",
    "        bankname=input(\"enter bank name:\")\n",
    "        acct__number=input(\"enter account number:\")\n",
    "        if amount > self.balance or amount == 0:\n",
    "            print(\"cannot complete transaction due to zero or insufficient funds\")\n",
    "        else:\n",
    "            self.balance -= amount\n",
    "            print(\"transaction successfull\")\n",
    "    def airtime(self):\n",
    "        amount=float(input(\"enter the amount:\"))\n",
    "        network=input(\"enter the network:\")\n",
    "        phone__number=(input(\"enter the phone number:\"))\n",
    "        if amount > self.balance or amount == 0:\n",
    "            print(\"cannot complete transaction due to zero or insufficient funds\")\n",
    "        else:\n",
    "            self.balance -= amount\n",
    "            print(\"airtime transaction successfull\")\n",
    "    def data(self):\n",
    "        amount=float(input(\"enter the amount:\"))\n",
    "        network=input(\"enter the network:\")\n",
    "        phone__number=(input(\"enter the phone number:\"))\n",
    "        if amount > self.balance or amount == 0:\n",
    "            print(\"cannot complete transaction due to zero or insufficient funds\")\n",
    "        else:\n",
    "            self.balance -= amount\n",
    "            print(\"data transaction successfull\")\n",
    "    def checkbalance(self):\n",
    "        print(f\"available balance {self.balance}\")\n",
    "bankapp=monieapp()            "
   ]
  },
  {
   "cell_type": "code",
   "execution_count": 22,
   "id": "c1f46737",
   "metadata": {},
   "outputs": [
    {
     "name": "stdout",
     "output_type": "stream",
     "text": [
      "enter deposit amount:6000000\n",
      "transaction successfull..\n"
     ]
    }
   ],
   "source": [
    "bankapp.deposit()"
   ]
  },
  {
   "cell_type": "code",
   "execution_count": 23,
   "id": "79f61ac2",
   "metadata": {},
   "outputs": [
    {
     "name": "stdout",
     "output_type": "stream",
     "text": [
      "enter transfer anount:1000000\n",
      "enter bank name:gtb\n",
      "enter account number:4554345535\n",
      "transaction successfull\n"
     ]
    }
   ],
   "source": [
    "bankapp.transfer()"
   ]
  },
  {
   "cell_type": "code",
   "execution_count": 24,
   "id": "f3811342",
   "metadata": {},
   "outputs": [
    {
     "name": "stdout",
     "output_type": "stream",
     "text": [
      "available balance 5000000.0\n"
     ]
    }
   ],
   "source": [
    "bankapp.checkbalance()"
   ]
  },
  {
   "cell_type": "code",
   "execution_count": 26,
   "id": "ae912004",
   "metadata": {},
   "outputs": [
    {
     "name": "stdout",
     "output_type": "stream",
     "text": [
      "enter the amount:2000\n",
      "enter the network:mtn\n",
      "enter the phone number:546456463\n",
      "airtime transaction successfull\n"
     ]
    }
   ],
   "source": [
    "bankapp.airtime()"
   ]
  },
  {
   "cell_type": "code",
   "execution_count": 27,
   "id": "57f0ef59",
   "metadata": {},
   "outputs": [
    {
     "name": "stdout",
     "output_type": "stream",
     "text": [
      "enter the amount:3000\n",
      "enter the network:glo\n",
      "enter the phone number:2345666543\n",
      "data transaction successfull\n"
     ]
    }
   ],
   "source": [
    "bankapp.data()"
   ]
  },
  {
   "cell_type": "code",
   "execution_count": 28,
   "id": "e0276f56",
   "metadata": {},
   "outputs": [
    {
     "name": "stdout",
     "output_type": "stream",
     "text": [
      "available balance 4995000.0\n"
     ]
    }
   ],
   "source": [
    "bankapp.checkbalance()"
   ]
  },
  {
   "cell_type": "code",
   "execution_count": null,
   "id": "88dedef6",
   "metadata": {},
   "outputs": [],
   "source": []
  }
 ],
 "metadata": {
  "kernelspec": {
   "display_name": "Python 3 (ipykernel)",
   "language": "python",
   "name": "python3"
  },
  "language_info": {
   "codemirror_mode": {
    "name": "ipython",
    "version": 3
   },
   "file_extension": ".py",
   "mimetype": "text/x-python",
   "name": "python",
   "nbconvert_exporter": "python",
   "pygments_lexer": "ipython3",
   "version": "3.11.5"
  }
 },
 "nbformat": 4,
 "nbformat_minor": 5
}
