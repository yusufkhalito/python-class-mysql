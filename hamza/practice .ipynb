{
 "cells": [
  {
   "cell_type": "code",
   "execution_count": 1,
   "id": "cc706bc5",
   "metadata": {},
   "outputs": [
    {
     "name": "stdout",
     "output_type": "stream",
     "text": [
      "apple\n",
      "banana\n",
      "orange\n"
     ]
    }
   ],
   "source": [
    "fruits=[\"apple\",\"banana\",\"orange\"]\n",
    "for fruit in fruits:\n",
    "    print(fruit)"
   ]
  },
  {
   "cell_type": "code",
   "execution_count": 8,
   "id": "14a4bd34",
   "metadata": {},
   "outputs": [
    {
     "name": "stdout",
     "output_type": "stream",
     "text": [
      "0\n",
      "1\n",
      "2\n",
      "3\n",
      "4\n"
     ]
    }
   ],
   "source": [
    "counter=0 \n",
    "while counter < 5:\n",
    "    print(counter)\n",
    "    counter+=1"
   ]
  },
  {
   "cell_type": "code",
   "execution_count": 12,
   "id": "0c5d9b48",
   "metadata": {},
   "outputs": [
    {
     "name": "stdout",
     "output_type": "stream",
     "text": [
      "1\n",
      "2\n",
      "4\n",
      "5\n",
      "6\n",
      "7\n",
      "8\n",
      "9\n"
     ]
    }
   ],
   "source": [
    "numbers=[1,2,3,4,5,6,7,8,9,10]\n",
    "for num in numbers:\n",
    "    if num == 3:\n",
    "        continue \n",
    "    elif num == 10:\n",
    "        break\n",
    "    print(num)   "
   ]
  },
  {
   "cell_type": "code",
   "execution_count": 15,
   "id": "72efbfe6",
   "metadata": {},
   "outputs": [
    {
     "name": "stdout",
     "output_type": "stream",
     "text": [
      "enter the name of file:me\n",
      "oops! an error: invalid mode: 'me'\n"
     ]
    }
   ],
   "source": [
    "try:\n",
    "    file_name=input(\"enter the name of file:\")\n",
    "    file=open(file_name,\"me\")\n",
    "    contents=file.read()\n",
    "    print(\"file contents:\",contents)\n",
    "    file.close()\n",
    "\n",
    "except Exception as e:\n",
    "    print(\"oops! an error:\",str(e))"
   ]
  },
  {
   "cell_type": "code",
   "execution_count": 10,
   "id": "7826c840",
   "metadata": {},
   "outputs": [
    {
     "ename": "TypeError",
     "evalue": "must be real number, not tuple",
     "output_type": "error",
     "traceback": [
      "\u001b[1;31m---------------------------------------------------------------------------\u001b[0m",
      "\u001b[1;31mTypeError\u001b[0m                                 Traceback (most recent call last)",
      "Cell \u001b[1;32mIn[10], line 2\u001b[0m\n\u001b[0;32m      1\u001b[0m numbers\u001b[38;5;241m=\u001b[39m \u001b[38;5;241m34\u001b[39m,\u001b[38;5;241m29\u001b[39m,\u001b[38;5;241m45\u001b[39m,\u001b[38;5;241m67\u001b[39m,\u001b[38;5;241m55\u001b[39m,\u001b[38;5;241m32\u001b[39m,\u001b[38;5;241m6\u001b[39m\n\u001b[1;32m----> 2\u001b[0m \u001b[38;5;28mprint\u001b[39m(math\u001b[38;5;241m.\u001b[39msqrt(numbers))\n",
      "\u001b[1;31mTypeError\u001b[0m: must be real number, not tuple"
     ]
    }
   ],
   "source": [
    "numbers= 34,29,45,67,55,32,6\n",
    "print(math.sqrt(numbers))"
   ]
  },
  {
   "cell_type": "code",
   "execution_count": 34,
   "id": "e4f00fc8",
   "metadata": {},
   "outputs": [
    {
     "data": {
      "text/plain": [
       "<function print(*args, sep=' ', end='\\n', file=None, flush=False)>"
      ]
     },
     "execution_count": 34,
     "metadata": {},
     "output_type": "execute_result"
    }
   ],
   "source": [
    "num=(22,56,23,78,45,78,45,98)\n",
    "max(num)\n",
    "print"
   ]
  },
  {
   "cell_type": "code",
   "execution_count": 30,
   "id": "b4113c0b",
   "metadata": {},
   "outputs": [
    {
     "ename": "NameError",
     "evalue": "name 'find_largest_number' is not defined",
     "output_type": "error",
     "traceback": [
      "\u001b[1;31m---------------------------------------------------------------------------\u001b[0m",
      "\u001b[1;31mNameError\u001b[0m                                 Traceback (most recent call last)",
      "Cell \u001b[1;32mIn[30], line 2\u001b[0m\n\u001b[0;32m      1\u001b[0m numbers\u001b[38;5;241m=\u001b[39m[\u001b[38;5;241m3\u001b[39m,\u001b[38;5;241m5\u001b[39m,\u001b[38;5;241m7\u001b[39m,\u001b[38;5;241m9\u001b[39m,\u001b[38;5;241m26\u001b[39m]\n\u001b[1;32m----> 2\u001b[0m largest_number\u001b[38;5;241m=\u001b[39mfind_largest_number(numbers)\n\u001b[0;32m      3\u001b[0m \u001b[38;5;28mprint\u001b[39m(\u001b[38;5;124m\"\u001b[39m\u001b[38;5;124mthe lagest numbre is:\u001b[39m\u001b[38;5;124m\"\u001b[39m,largest_number)\n",
      "\u001b[1;31mNameError\u001b[0m: name 'find_largest_number' is not defined"
     ]
    }
   ],
   "source": [
    "numbers=[3,5,7,9,26]\n",
    "largest_number=find_largest_number(numbers)\n",
    "print(\"the lagest numbre is:\",largest_number)"
   ]
  },
  {
   "cell_type": "code",
   "execution_count": 26,
   "id": "3a59f80d",
   "metadata": {},
   "outputs": [
    {
     "ename": "TypeError",
     "evalue": "len() takes exactly one argument (4 given)",
     "output_type": "error",
     "traceback": [
      "\u001b[1;31m---------------------------------------------------------------------------\u001b[0m",
      "\u001b[1;31mTypeError\u001b[0m                                 Traceback (most recent call last)",
      "Cell \u001b[1;32mIn[26], line 9\u001b[0m\n\u001b[0;32m      7\u001b[0m             largest\u001b[38;5;241m=\u001b[39mnumber\n\u001b[0;32m      8\u001b[0m     \u001b[38;5;28;01mreturn\u001b[39;00m largest\n\u001b[1;32m----> 9\u001b[0m find_lagest()\n",
      "Cell \u001b[1;32mIn[26], line 2\u001b[0m, in \u001b[0;36mfind_lagest\u001b[1;34m()\u001b[0m\n\u001b[0;32m      1\u001b[0m \u001b[38;5;28;01mdef\u001b[39;00m \u001b[38;5;21mfind_lagest\u001b[39m():\n\u001b[1;32m----> 2\u001b[0m     \u001b[38;5;28;01mif\u001b[39;00m \u001b[38;5;28mlen\u001b[39m(\u001b[38;5;241m3\u001b[39m,\u001b[38;5;241m5\u001b[39m,\u001b[38;5;241m6\u001b[39m,\u001b[38;5;241m8\u001b[39m) \u001b[38;5;241m==\u001b[39m \u001b[38;5;241m0\u001b[39m:\n\u001b[0;32m      3\u001b[0m         \u001b[38;5;28;01mreturn\u001b[39;00m none\n\u001b[0;32m      4\u001b[0m     largest\u001b[38;5;241m=\u001b[39mnumbers[\u001b[38;5;241m0\u001b[39m]\n",
      "\u001b[1;31mTypeError\u001b[0m: len() takes exactly one argument (4 given)"
     ]
    }
   ],
   "source": [
    "def find_lagest():\n",
    "    if len(3,5,6,8) == 0:\n",
    "        return none\n",
    "    largest=numbers[0]\n",
    "    for number in numbers:\n",
    "        if number > largest:\n",
    "            largest=number\n",
    "    return largest\n",
    "find_lagest()"
   ]
  },
  {
   "cell_type": "code",
   "execution_count": null,
   "id": "04c2c7fa",
   "metadata": {},
   "outputs": [],
   "source": [
    "def delete_account(self,account_id):\n",
    "    self.cursor.execut(\"DELETE ACCOUNT WHERE ACCOUNT_ID = %s\",(f\"%{keyword}%\"))\n",
    "    self.cursor.commit()\n",
    "    print(\"ACCOUNT DELETED SUCCESSFULLY..\")"
   ]
  }
 ],
 "metadata": {
  "kernelspec": {
   "display_name": "Python 3 (ipykernel)",
   "language": "python",
   "name": "python3"
  },
  "language_info": {
   "codemirror_mode": {
    "name": "ipython",
    "version": 3
   },
   "file_extension": ".py",
   "mimetype": "text/x-python",
   "name": "python",
   "nbconvert_exporter": "python",
   "pygments_lexer": "ipython3",
   "version": "3.11.5"
  }
 },
 "nbformat": 4,
 "nbformat_minor": 5
}
