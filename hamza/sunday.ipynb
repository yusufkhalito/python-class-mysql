{
 "cells": [
  {
   "cell_type": "code",
   "execution_count": 3,
   "id": "196a6018",
   "metadata": {},
   "outputs": [],
   "source": [
    "class gadgets:\n",
    "    def ___init___(self):\n",
    "        self.brand =(\"xiaomi,apple,dell,hp\")\n",
    "        self.color =(\"blue,white,black,silver\")\n",
    "        self.memory= 64,128,256,500\n",
    "    def buyer(self):\n",
    "        brand=input(\"what is the type of model do u want:\")\n",
    "        color=input(\"what is the type of color do you want:\")\n",
    "        memory=input(\"what is the type of memory you want:\")\n",
    "        if brand == self.brand:\n",
    "            print(\"available..\")\n",
    "        elif color == self.color:\n",
    "            print(\"available..\")\n",
    "        elif memory == self.memory:\n",
    "            print(\"available..\")\n",
    "        else:\n",
    "            model != self.brand\n",
    "            color != self.color\n",
    "            memory != self.memory\n",
    "            print(\"not available\")\n",
    "khalid=gadgets()  "
   ]
  },
  {
   "cell_type": "code",
   "execution_count": 4,
   "id": "b5bd0d47",
   "metadata": {},
   "outputs": [
    {
     "name": "stdout",
     "output_type": "stream",
     "text": [
      "what is the type of model do u want:xiaomi\n",
      "what is the type of color do you want:white\n",
      "what is the type of memory you want:256\n"
     ]
    },
    {
     "ename": "AttributeError",
     "evalue": "'gadgets' object has no attribute 'brand'",
     "output_type": "error",
     "traceback": [
      "\u001b[1;31m---------------------------------------------------------------------------\u001b[0m",
      "\u001b[1;31mAttributeError\u001b[0m                            Traceback (most recent call last)",
      "Cell \u001b[1;32mIn[4], line 1\u001b[0m\n\u001b[1;32m----> 1\u001b[0m khalid\u001b[38;5;241m.\u001b[39mbuyer()\n",
      "Cell \u001b[1;32mIn[3], line 10\u001b[0m, in \u001b[0;36mgadgets.buyer\u001b[1;34m(self)\u001b[0m\n\u001b[0;32m      8\u001b[0m color\u001b[38;5;241m=\u001b[39m\u001b[38;5;28minput\u001b[39m(\u001b[38;5;124m\"\u001b[39m\u001b[38;5;124mwhat is the type of color do you want:\u001b[39m\u001b[38;5;124m\"\u001b[39m)\n\u001b[0;32m      9\u001b[0m memory\u001b[38;5;241m=\u001b[39m\u001b[38;5;28minput\u001b[39m(\u001b[38;5;124m\"\u001b[39m\u001b[38;5;124mwhat is the type of memory you want:\u001b[39m\u001b[38;5;124m\"\u001b[39m)\n\u001b[1;32m---> 10\u001b[0m \u001b[38;5;28;01mif\u001b[39;00m brand \u001b[38;5;241m==\u001b[39m \u001b[38;5;28mself\u001b[39m\u001b[38;5;241m.\u001b[39mbrand:\n\u001b[0;32m     11\u001b[0m     \u001b[38;5;28mprint\u001b[39m(\u001b[38;5;124m\"\u001b[39m\u001b[38;5;124mavailable..\u001b[39m\u001b[38;5;124m\"\u001b[39m)\n\u001b[0;32m     12\u001b[0m \u001b[38;5;28;01melif\u001b[39;00m color \u001b[38;5;241m==\u001b[39m \u001b[38;5;28mself\u001b[39m\u001b[38;5;241m.\u001b[39mcolor:\n",
      "\u001b[1;31mAttributeError\u001b[0m: 'gadgets' object has no attribute 'brand'"
     ]
    }
   ],
   "source": [
    "khalid.buyer()"
   ]
  },
  {
   "cell_type": "code",
   "execution_count": null,
   "id": "592fcf03",
   "metadata": {},
   "outputs": [],
   "source": []
  }
 ],
 "metadata": {
  "kernelspec": {
   "display_name": "Python 3 (ipykernel)",
   "language": "python",
   "name": "python3"
  },
  "language_info": {
   "codemirror_mode": {
    "name": "ipython",
    "version": 3
   },
   "file_extension": ".py",
   "mimetype": "text/x-python",
   "name": "python",
   "nbconvert_exporter": "python",
   "pygments_lexer": "ipython3",
   "version": "3.11.5"
  }
 },
 "nbformat": 4,
 "nbformat_minor": 5
}
